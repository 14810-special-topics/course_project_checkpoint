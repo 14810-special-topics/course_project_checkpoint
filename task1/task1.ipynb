{
 "cells": [
  {
   "cell_type": "markdown",
   "id": "58d285b5",
   "metadata": {},
   "source": [
    "### Importing required packages"
   ]
  },
  {
   "cell_type": "code",
   "execution_count": 1,
   "id": "554b7677",
   "metadata": {},
   "outputs": [],
   "source": [
    "import pyspark\n",
    "from pyspark.sql import SparkSession, SQLContext, DataFrame\n",
    "from pyspark.sql.functions import isnan, when, count, col, to_timestamp, to_date, lit, udf\n",
    "from pyspark.ml.feature import Imputer\n",
    "from pyspark.sql.types import IntegerType"
   ]
  },
  {
   "cell_type": "markdown",
   "id": "628fed53",
   "metadata": {},
   "source": [
    "### Display spark dataframes such that they can be scrolled horizontally\n",
    "reference: https://stackoverflow.com/questions/43427138/pyspark-show-dataframe-as-table-with-horizontal-scroll-in-ipython-notebook\n",
    "\n"
   ]
  },
  {
   "cell_type": "code",
   "execution_count": 2,
   "id": "84f3225e",
   "metadata": {},
   "outputs": [
    {
     "data": {
      "text/html": [
       "<style>pre { white-space: pre !important; }</style>"
      ],
      "text/plain": [
       "<IPython.core.display.HTML object>"
      ]
     },
     "metadata": {},
     "output_type": "display_data"
    }
   ],
   "source": [
    "from IPython.core.display import HTML\n",
    "display(HTML(\"<style>pre { white-space: pre !important; }</style>\"))"
   ]
  },
  {
   "cell_type": "markdown",
   "id": "1a0e665a",
   "metadata": {},
   "source": [
    "### Reading Data"
   ]
  },
  {
   "cell_type": "code",
   "execution_count": 3,
   "id": "683e6fe6",
   "metadata": {},
   "outputs": [
    {
     "name": "stderr",
     "output_type": "stream",
     "text": [
      "/opt/homebrew/Cellar/apache-spark/3.2.0/libexec/python/pyspark/sql/context.py:77: FutureWarning: Deprecated in 3.0.0. Use SparkSession.builder.getOrCreate() instead.\n",
      "  warnings.warn(\n",
      "                                                                                \r"
     ]
    }
   ],
   "source": [
    "appName = \"Course Project\"\n",
    "master = \"local\"\n",
    "\n",
    "conf = pyspark.SparkConf().set('spark.driver.host','127.0.0.1').setAppName(appName).setMaster(master)\n",
    "sc = SparkContext.getOrCreate(conf=conf)\n",
    "sqlContext = SQLContext(sc)\n",
    "spark = sqlContext.sparkSession.builder.getOrCreate()\n",
    "\n",
    "players_15_df = (spark.read\n",
    "         .format(\"csv\")\n",
    "         .option(\"inferSchema\", \"true\")\n",
    "         .option(\"header\",\"true\")\n",
    "         .load(\"../data/players_15.csv\")\n",
    "      )\n",
    "\n",
    "players_16_df = (spark.read\n",
    "         .format(\"csv\")\n",
    "         .option(\"inferSchema\", \"true\")\n",
    "         .option(\"header\",\"true\")\n",
    "         .load(\"../data/players_16.csv\")\n",
    "      )\n",
    "\n",
    "players_17_df = (spark.read\n",
    "         .format(\"csv\")\n",
    "         .option(\"inferSchema\", \"true\")\n",
    "         .option(\"header\",\"true\")\n",
    "         .load(\"../data/players_17.csv\")\n",
    "      )\n",
    "\n",
    "players_18_df = (spark.read\n",
    "         .format(\"csv\")\n",
    "         .option(\"inferSchema\", \"true\")\n",
    "         .option(\"header\",\"true\")\n",
    "         .load(\"../data/players_18.csv\")\n",
    "      )\n",
    "\n",
    "players_19_df = (spark.read\n",
    "         .format(\"csv\")\n",
    "         .option(\"inferSchema\", \"true\")\n",
    "         .option(\"header\",\"true\")\n",
    "         .load(\"../data/players_19.csv\")\n",
    "      )\n",
    "\n",
    "players_20_df = (spark.read\n",
    "         .format(\"csv\")\n",
    "         .option(\"inferSchema\", \"true\")\n",
    "         .option(\"header\",\"true\")\n",
    "         .load(\"../data/players_20.csv\")\n",
    "      )\n",
    "\n",
    "players_21_df = (spark.read\n",
    "         .format(\"csv\")\n",
    "         .option(\"inferSchema\", \"true\")\n",
    "         .option(\"header\",\"true\")\n",
    "         .load(\"../data/players_21.csv\")\n",
    "      )\n",
    "\n",
    "players_22_df = (spark.read\n",
    "         .format(\"csv\")\n",
    "         .option(\"inferSchema\", \"true\")\n",
    "         .option(\"header\",\"true\")\n",
    "         .load(\"../data/players_22.csv\")\n",
    "      )"
   ]
  },
  {
   "cell_type": "markdown",
   "id": "4273d58b",
   "metadata": {},
   "source": [
    "### Printing schema to ensure column names match (before the update on kaggle, there was one column with differing name) "
   ]
  },
  {
   "cell_type": "code",
   "execution_count": 4,
   "id": "7949ea27",
   "metadata": {},
   "outputs": [
    {
     "name": "stdout",
     "output_type": "stream",
     "text": [
      "root\n",
      " |-- sofifa_id: integer (nullable = true)\n",
      " |-- player_url: string (nullable = true)\n",
      " |-- short_name: string (nullable = true)\n",
      " |-- long_name: string (nullable = true)\n",
      " |-- player_positions: string (nullable = true)\n",
      " |-- overall: integer (nullable = true)\n",
      " |-- potential: integer (nullable = true)\n",
      " |-- value_eur: double (nullable = true)\n",
      " |-- wage_eur: double (nullable = true)\n",
      " |-- age: integer (nullable = true)\n",
      " |-- dob: string (nullable = true)\n",
      " |-- height_cm: integer (nullable = true)\n",
      " |-- weight_kg: integer (nullable = true)\n",
      " |-- club_team_id: double (nullable = true)\n",
      " |-- club_name: string (nullable = true)\n",
      " |-- league_name: string (nullable = true)\n",
      " |-- league_level: integer (nullable = true)\n",
      " |-- club_position: string (nullable = true)\n",
      " |-- club_jersey_number: integer (nullable = true)\n",
      " |-- club_loaned_from: string (nullable = true)\n",
      " |-- club_joined: string (nullable = true)\n",
      " |-- club_contract_valid_until: integer (nullable = true)\n",
      " |-- nationality_id: integer (nullable = true)\n",
      " |-- nationality_name: string (nullable = true)\n",
      " |-- nation_team_id: double (nullable = true)\n",
      " |-- nation_position: string (nullable = true)\n",
      " |-- nation_jersey_number: integer (nullable = true)\n",
      " |-- preferred_foot: string (nullable = true)\n",
      " |-- weak_foot: integer (nullable = true)\n",
      " |-- skill_moves: integer (nullable = true)\n",
      " |-- international_reputation: integer (nullable = true)\n",
      " |-- work_rate: string (nullable = true)\n",
      " |-- body_type: string (nullable = true)\n",
      " |-- real_face: string (nullable = true)\n",
      " |-- release_clause_eur: string (nullable = true)\n",
      " |-- player_tags: string (nullable = true)\n",
      " |-- player_traits: string (nullable = true)\n",
      " |-- pace: integer (nullable = true)\n",
      " |-- shooting: integer (nullable = true)\n",
      " |-- passing: integer (nullable = true)\n",
      " |-- dribbling: integer (nullable = true)\n",
      " |-- defending: integer (nullable = true)\n",
      " |-- physic: integer (nullable = true)\n",
      " |-- attacking_crossing: integer (nullable = true)\n",
      " |-- attacking_finishing: integer (nullable = true)\n",
      " |-- attacking_heading_accuracy: integer (nullable = true)\n",
      " |-- attacking_short_passing: integer (nullable = true)\n",
      " |-- attacking_volleys: integer (nullable = true)\n",
      " |-- skill_dribbling: integer (nullable = true)\n",
      " |-- skill_curve: integer (nullable = true)\n",
      " |-- skill_fk_accuracy: integer (nullable = true)\n",
      " |-- skill_long_passing: integer (nullable = true)\n",
      " |-- skill_ball_control: integer (nullable = true)\n",
      " |-- movement_acceleration: integer (nullable = true)\n",
      " |-- movement_sprint_speed: integer (nullable = true)\n",
      " |-- movement_agility: integer (nullable = true)\n",
      " |-- movement_reactions: integer (nullable = true)\n",
      " |-- movement_balance: integer (nullable = true)\n",
      " |-- power_shot_power: integer (nullable = true)\n",
      " |-- power_jumping: integer (nullable = true)\n",
      " |-- power_stamina: integer (nullable = true)\n",
      " |-- power_strength: integer (nullable = true)\n",
      " |-- power_long_shots: integer (nullable = true)\n",
      " |-- mentality_aggression: integer (nullable = true)\n",
      " |-- mentality_interceptions: integer (nullable = true)\n",
      " |-- mentality_positioning: integer (nullable = true)\n",
      " |-- mentality_vision: integer (nullable = true)\n",
      " |-- mentality_penalties: integer (nullable = true)\n",
      " |-- mentality_composure: string (nullable = true)\n",
      " |-- defending_marking_awareness: integer (nullable = true)\n",
      " |-- defending_standing_tackle: integer (nullable = true)\n",
      " |-- defending_sliding_tackle: integer (nullable = true)\n",
      " |-- goalkeeping_diving: integer (nullable = true)\n",
      " |-- goalkeeping_handling: integer (nullable = true)\n",
      " |-- goalkeeping_kicking: integer (nullable = true)\n",
      " |-- goalkeeping_positioning: integer (nullable = true)\n",
      " |-- goalkeeping_reflexes: integer (nullable = true)\n",
      " |-- goalkeeping_speed: integer (nullable = true)\n",
      " |-- ls: string (nullable = true)\n",
      " |-- st: string (nullable = true)\n",
      " |-- rs: string (nullable = true)\n",
      " |-- lw: string (nullable = true)\n",
      " |-- lf: string (nullable = true)\n",
      " |-- cf: string (nullable = true)\n",
      " |-- rf: string (nullable = true)\n",
      " |-- rw: string (nullable = true)\n",
      " |-- lam: string (nullable = true)\n",
      " |-- cam: string (nullable = true)\n",
      " |-- ram: string (nullable = true)\n",
      " |-- lm: string (nullable = true)\n",
      " |-- lcm: string (nullable = true)\n",
      " |-- cm: string (nullable = true)\n",
      " |-- rcm: string (nullable = true)\n",
      " |-- rm: string (nullable = true)\n",
      " |-- lwb: string (nullable = true)\n",
      " |-- ldm: string (nullable = true)\n",
      " |-- cdm: string (nullable = true)\n",
      " |-- rdm: string (nullable = true)\n",
      " |-- rwb: string (nullable = true)\n",
      " |-- lb: string (nullable = true)\n",
      " |-- lcb: string (nullable = true)\n",
      " |-- cb: string (nullable = true)\n",
      " |-- rcb: string (nullable = true)\n",
      " |-- rb: string (nullable = true)\n",
      " |-- gk: string (nullable = true)\n",
      " |-- player_face_url: string (nullable = true)\n",
      " |-- club_logo_url: string (nullable = true)\n",
      " |-- club_flag_url: string (nullable = true)\n",
      " |-- nation_logo_url: string (nullable = true)\n",
      " |-- nation_flag_url: string (nullable = true)\n",
      "\n"
     ]
    }
   ],
   "source": [
    "players_15_df.printSchema()"
   ]
  },
  {
   "cell_type": "code",
   "execution_count": 5,
   "id": "9f0975aa",
   "metadata": {},
   "outputs": [
    {
     "name": "stdout",
     "output_type": "stream",
     "text": [
      "root\n",
      " |-- sofifa_id: integer (nullable = true)\n",
      " |-- player_url: string (nullable = true)\n",
      " |-- short_name: string (nullable = true)\n",
      " |-- long_name: string (nullable = true)\n",
      " |-- player_positions: string (nullable = true)\n",
      " |-- overall: integer (nullable = true)\n",
      " |-- potential: integer (nullable = true)\n",
      " |-- value_eur: double (nullable = true)\n",
      " |-- wage_eur: double (nullable = true)\n",
      " |-- age: integer (nullable = true)\n",
      " |-- dob: string (nullable = true)\n",
      " |-- height_cm: integer (nullable = true)\n",
      " |-- weight_kg: integer (nullable = true)\n",
      " |-- club_team_id: double (nullable = true)\n",
      " |-- club_name: string (nullable = true)\n",
      " |-- league_name: string (nullable = true)\n",
      " |-- league_level: integer (nullable = true)\n",
      " |-- club_position: string (nullable = true)\n",
      " |-- club_jersey_number: integer (nullable = true)\n",
      " |-- club_loaned_from: string (nullable = true)\n",
      " |-- club_joined: string (nullable = true)\n",
      " |-- club_contract_valid_until: integer (nullable = true)\n",
      " |-- nationality_id: integer (nullable = true)\n",
      " |-- nationality_name: string (nullable = true)\n",
      " |-- nation_team_id: double (nullable = true)\n",
      " |-- nation_position: string (nullable = true)\n",
      " |-- nation_jersey_number: integer (nullable = true)\n",
      " |-- preferred_foot: string (nullable = true)\n",
      " |-- weak_foot: integer (nullable = true)\n",
      " |-- skill_moves: integer (nullable = true)\n",
      " |-- international_reputation: integer (nullable = true)\n",
      " |-- work_rate: string (nullable = true)\n",
      " |-- body_type: string (nullable = true)\n",
      " |-- real_face: string (nullable = true)\n",
      " |-- release_clause_eur: integer (nullable = true)\n",
      " |-- player_tags: string (nullable = true)\n",
      " |-- player_traits: string (nullable = true)\n",
      " |-- pace: integer (nullable = true)\n",
      " |-- shooting: integer (nullable = true)\n",
      " |-- passing: integer (nullable = true)\n",
      " |-- dribbling: integer (nullable = true)\n",
      " |-- defending: integer (nullable = true)\n",
      " |-- physic: integer (nullable = true)\n",
      " |-- attacking_crossing: integer (nullable = true)\n",
      " |-- attacking_finishing: integer (nullable = true)\n",
      " |-- attacking_heading_accuracy: integer (nullable = true)\n",
      " |-- attacking_short_passing: integer (nullable = true)\n",
      " |-- attacking_volleys: integer (nullable = true)\n",
      " |-- skill_dribbling: integer (nullable = true)\n",
      " |-- skill_curve: integer (nullable = true)\n",
      " |-- skill_fk_accuracy: integer (nullable = true)\n",
      " |-- skill_long_passing: integer (nullable = true)\n",
      " |-- skill_ball_control: integer (nullable = true)\n",
      " |-- movement_acceleration: integer (nullable = true)\n",
      " |-- movement_sprint_speed: integer (nullable = true)\n",
      " |-- movement_agility: integer (nullable = true)\n",
      " |-- movement_reactions: integer (nullable = true)\n",
      " |-- movement_balance: integer (nullable = true)\n",
      " |-- power_shot_power: integer (nullable = true)\n",
      " |-- power_jumping: integer (nullable = true)\n",
      " |-- power_stamina: integer (nullable = true)\n",
      " |-- power_strength: integer (nullable = true)\n",
      " |-- power_long_shots: integer (nullable = true)\n",
      " |-- mentality_aggression: integer (nullable = true)\n",
      " |-- mentality_interceptions: integer (nullable = true)\n",
      " |-- mentality_positioning: integer (nullable = true)\n",
      " |-- mentality_vision: integer (nullable = true)\n",
      " |-- mentality_penalties: integer (nullable = true)\n",
      " |-- mentality_composure: integer (nullable = true)\n",
      " |-- defending_marking_awareness: integer (nullable = true)\n",
      " |-- defending_standing_tackle: integer (nullable = true)\n",
      " |-- defending_sliding_tackle: integer (nullable = true)\n",
      " |-- goalkeeping_diving: integer (nullable = true)\n",
      " |-- goalkeeping_handling: integer (nullable = true)\n",
      " |-- goalkeeping_kicking: integer (nullable = true)\n",
      " |-- goalkeeping_positioning: integer (nullable = true)\n",
      " |-- goalkeeping_reflexes: integer (nullable = true)\n",
      " |-- goalkeeping_speed: integer (nullable = true)\n",
      " |-- ls: string (nullable = true)\n",
      " |-- st: string (nullable = true)\n",
      " |-- rs: string (nullable = true)\n",
      " |-- lw: string (nullable = true)\n",
      " |-- lf: string (nullable = true)\n",
      " |-- cf: string (nullable = true)\n",
      " |-- rf: string (nullable = true)\n",
      " |-- rw: string (nullable = true)\n",
      " |-- lam: string (nullable = true)\n",
      " |-- cam: string (nullable = true)\n",
      " |-- ram: string (nullable = true)\n",
      " |-- lm: string (nullable = true)\n",
      " |-- lcm: string (nullable = true)\n",
      " |-- cm: string (nullable = true)\n",
      " |-- rcm: string (nullable = true)\n",
      " |-- rm: string (nullable = true)\n",
      " |-- lwb: string (nullable = true)\n",
      " |-- ldm: string (nullable = true)\n",
      " |-- cdm: string (nullable = true)\n",
      " |-- rdm: string (nullable = true)\n",
      " |-- rwb: string (nullable = true)\n",
      " |-- lb: string (nullable = true)\n",
      " |-- lcb: string (nullable = true)\n",
      " |-- cb: string (nullable = true)\n",
      " |-- rcb: string (nullable = true)\n",
      " |-- rb: string (nullable = true)\n",
      " |-- gk: string (nullable = true)\n",
      " |-- player_face_url: string (nullable = true)\n",
      " |-- club_logo_url: string (nullable = true)\n",
      " |-- club_flag_url: string (nullable = true)\n",
      " |-- nation_logo_url: string (nullable = true)\n",
      " |-- nation_flag_url: string (nullable = true)\n",
      "\n"
     ]
    }
   ],
   "source": [
    "players_22_df.printSchema()"
   ]
  },
  {
   "cell_type": "markdown",
   "id": "f3839b3a",
   "metadata": {},
   "source": [
    "### Adding year column to every dataset"
   ]
  },
  {
   "cell_type": "code",
   "execution_count": 6,
   "id": "0cdb92a3",
   "metadata": {},
   "outputs": [],
   "source": [
    "players_15_df_year = players_15_df.withColumn('year', lit(2015))\n",
    "players_16_df_year = players_16_df.withColumn('year', lit(2016))\n",
    "players_17_df_year = players_17_df.withColumn('year', lit(2017))\n",
    "players_18_df_year = players_18_df.withColumn('year', lit(2018))\n",
    "players_19_df_year = players_19_df.withColumn('year', lit(2019))\n",
    "players_20_df_year = players_20_df.withColumn('year', lit(2020))\n",
    "players_21_df_year = players_21_df.withColumn('year', lit(2021))\n",
    "players_22_df_year = players_22_df.withColumn('year', lit(2022))"
   ]
  },
  {
   "cell_type": "markdown",
   "id": "1c108ceb",
   "metadata": {},
   "source": [
    "### Combining datasets"
   ]
  },
  {
   "cell_type": "code",
   "execution_count": 7,
   "id": "93da4aa0",
   "metadata": {},
   "outputs": [
    {
     "data": {
      "text/plain": [
       "142079"
      ]
     },
     "execution_count": 7,
     "metadata": {},
     "output_type": "execute_result"
    }
   ],
   "source": [
    "# Get total count \n",
    "\n",
    "players_15_df_year.count() + players_16_df_year.count() + players_17_df_year.count() + \\\n",
    "players_18_df_year.count() + players_19_df_year.count() + players_20_df_year.count() + \\\n",
    "players_21_df_year.count() + players_22_df_year.count()\n"
   ]
  },
  {
   "cell_type": "code",
   "execution_count": 8,
   "id": "17b3d9de",
   "metadata": {},
   "outputs": [],
   "source": [
    "# Combine all datasets using union\n",
    "\n",
    "players_df_all = players_15_df_year.union(players_16_df_year).union(players_17_df_year).union(players_18_df_year)\\\n",
    "                    .union(players_19_df_year).union(players_20_df_year).union(players_21_df_year).union(players_22_df_year)"
   ]
  },
  {
   "cell_type": "code",
   "execution_count": 9,
   "id": "5fe2fc41",
   "metadata": {},
   "outputs": [
    {
     "data": {
      "text/plain": [
       "142079"
      ]
     },
     "execution_count": 9,
     "metadata": {},
     "output_type": "execute_result"
    }
   ],
   "source": [
    "# Verify that count matches\n",
    "\n",
    "players_df_all.count()"
   ]
  },
  {
   "cell_type": "code",
   "execution_count": 10,
   "id": "667f1216",
   "metadata": {},
   "outputs": [
    {
     "name": "stderr",
     "output_type": "stream",
     "text": [
      "22/03/25 18:39:37 WARN package: Truncated the string representation of a plan since it was too large. This behavior can be adjusted by setting 'spark.sql.debug.maxToStringFields'.\n"
     ]
    },
    {
     "name": "stdout",
     "output_type": "stream",
     "text": [
      "+---------+--------------------+-----------------+--------------------+----------------+-------+---------+---------+--------+---+----------+---------+---------+------------+-------------------+--------------------+------------+-------------+------------------+----------------+-----------+-------------------------+--------------+----------------+--------------+---------------+--------------------+--------------+---------+-----------+------------------------+-------------+----------------+---------+------------------+--------------------+--------------------+----+--------+-------+---------+---------+------+------------------+-------------------+--------------------------+-----------------------+-----------------+---------------+-----------+-----------------+------------------+------------------+---------------------+---------------------+----------------+------------------+----------------+----------------+-------------+-------------+--------------+----------------+--------------------+-----------------------+---------------------+----------------+-------------------+-------------------+---------------------------+-------------------------+------------------------+------------------+--------------------+-------------------+-----------------------+--------------------+-----------------+----+----+----+----+----+----+----+----+----+----+----+----+----+----+----+----+----+----+----+----+----+----+----+----+----+----+----+--------------------+--------------------+--------------------+--------------------+--------------------+----+\n",
      "|sofifa_id|          player_url|       short_name|           long_name|player_positions|overall|potential|value_eur|wage_eur|age|       dob|height_cm|weight_kg|club_team_id|          club_name|         league_name|league_level|club_position|club_jersey_number|club_loaned_from|club_joined|club_contract_valid_until|nationality_id|nationality_name|nation_team_id|nation_position|nation_jersey_number|preferred_foot|weak_foot|skill_moves|international_reputation|    work_rate|       body_type|real_face|release_clause_eur|         player_tags|       player_traits|pace|shooting|passing|dribbling|defending|physic|attacking_crossing|attacking_finishing|attacking_heading_accuracy|attacking_short_passing|attacking_volleys|skill_dribbling|skill_curve|skill_fk_accuracy|skill_long_passing|skill_ball_control|movement_acceleration|movement_sprint_speed|movement_agility|movement_reactions|movement_balance|power_shot_power|power_jumping|power_stamina|power_strength|power_long_shots|mentality_aggression|mentality_interceptions|mentality_positioning|mentality_vision|mentality_penalties|mentality_composure|defending_marking_awareness|defending_standing_tackle|defending_sliding_tackle|goalkeeping_diving|goalkeeping_handling|goalkeeping_kicking|goalkeeping_positioning|goalkeeping_reflexes|goalkeeping_speed|  ls|  st|  rs|  lw|  lf|  cf|  rf|  rw| lam| cam| ram|  lm| lcm|  cm| rcm|  rm| lwb| ldm| cdm| rdm| rwb|  lb| lcb|  cb| rcb|  rb|  gk|     player_face_url|       club_logo_url|       club_flag_url|     nation_logo_url|     nation_flag_url|year|\n",
      "+---------+--------------------+-----------------+--------------------+----------------+-------+---------+---------+--------+---+----------+---------+---------+------------+-------------------+--------------------+------------+-------------+------------------+----------------+-----------+-------------------------+--------------+----------------+--------------+---------------+--------------------+--------------+---------+-----------+------------------------+-------------+----------------+---------+------------------+--------------------+--------------------+----+--------+-------+---------+---------+------+------------------+-------------------+--------------------------+-----------------------+-----------------+---------------+-----------+-----------------+------------------+------------------+---------------------+---------------------+----------------+------------------+----------------+----------------+-------------+-------------+--------------+----------------+--------------------+-----------------------+---------------------+----------------+-------------------+-------------------+---------------------------+-------------------------+------------------------+------------------+--------------------+-------------------+-----------------------+--------------------+-----------------+----+----+----+----+----+----+----+----+----+----+----+----+----+----+----+----+----+----+----+----+----+----+----+----+----+----+----+--------------------+--------------------+--------------------+--------------------+--------------------+----+\n",
      "|   158023|https://sofifa.co...|         L. Messi|Lionel Andrés Mes...|              CF|     93|       95|  1.005E8|550000.0| 27|1987-06-24|      169|       67|       241.0|       FC Barcelona|Spain Primera Div...|           1|           CF|                10|            null| 2004-07-01|                     2018|            52|       Argentina|        1369.0|             CF|                  10|          Left|        3|          4|                       5|   Medium/Low|   Normal (170-)|      Yes|              null|#Speedster, #Drib...|Finesse Shot, Spe...|  93|      89|     86|       96|       27|    63|                84|                 94|                        71|                     89|               85|             96|         89|               90|                76|                96|                   96|                   90|              94|                94|              95|              80|           73|           77|            60|              88|                  48|                     22|                   92|              90|                 76|               null|                         25|                       21|                      20|                 6|                  11|                 15|                     14|                   8|             null|89+3|89+3|89+3|92+3|90+3|90+3|90+3|92+3|92+3|92+3|92+3|90+3|79+3|79+3|79+3|90+3|62+3|62+3|62+3|62+3|62+3|54+3|45+3|45+3|45+3|54+3|15+3|https://cdn.sofif...|https://cdn.sofif...|https://cdn.sofif...|https://cdn.sofif...|https://cdn.sofif...|2015|\n",
      "|    20801|https://sofifa.co...|Cristiano Ronaldo|Cristiano Ronaldo...|          LW, LM|     92|       92|    7.9E7|375000.0| 29|1985-02-05|      185|       80|       243.0|     Real Madrid CF|Spain Primera Div...|           1|           LW|                 7|            null| 2009-07-01|                     2018|            38|        Portugal|        1354.0|             LW|                   7|         Right|        4|          5|                       5|     High/Low|   Normal (185+)|      Yes|              null|#Speedster, #Drib...|Power Free-Kick, ...|  93|      93|     81|       91|       32|    79|                83|                 95|                        86|                     82|               87|             93|         88|               79|                72|                92|                   91|                   94|              93|                90|              63|              94|           94|           89|            79|              93|                  63|                     24|                   91|              81|                 85|               null|                         22|                       31|                      23|                 7|                  11|                 15|                     14|                  11|             null|91+1|91+1|91+1|89+3|91+1|91+1|91+1|89+3|89+3|89+3|89+3|87+3|77+3|77+3|77+3|87+3|63+3|63+3|63+3|63+3|63+3|57+3|52+3|52+3|52+3|57+3|16+3|https://cdn.sofif...|https://cdn.sofif...|https://cdn.sofif...|https://cdn.sofif...|https://cdn.sofif...|2015|\n",
      "|     9014|https://sofifa.co...|        A. Robben|        Arjen Robben|      RM, LM, RW|     90|       90|   5.45E7|275000.0| 30|1984-01-23|      180|       80|        21.0|  FC Bayern München|German 1. Bundesliga|           1|          SUB|                10|            null| 2009-08-28|                     2017|            34|     Netherlands|      105035.0|             RS|                  11|          Left|        2|          4|                       5|     High/Low|Normal (170-185)|      Yes|              null|#Speedster, #Drib...|Diver, Injury Pro...|  93|      86|     83|       92|       32|    64|                80|                 85|                        50|                     86|               86|             93|         85|               83|                76|                90|                   93|                   93|              93|                89|              91|              86|           61|           78|            65|              90|                  47|                     39|                   89|              84|                 80|               null|                         29|                       26|                      26|                10|                   8|                 11|                      5|                  15|             null|84+3|84+3|84+3|88+2|87+3|87+3|87+3|88+2|88+2|88+2|88+2|87+3|78+3|78+3|78+3|87+3|64+3|64+3|64+3|64+3|64+3|55+3|46+3|46+3|46+3|55+3|14+3|https://cdn.sofif...|https://cdn.sofif...|https://cdn.sofif...|https://cdn.sofif...|https://cdn.sofif...|2015|\n",
      "|    41236|https://sofifa.co...|   Z. Ibrahimović|  Zlatan Ibrahimović|              ST|     90|       90|   5.25E7|275000.0| 32|1981-10-03|      195|       95|        73.0|Paris Saint-Germain|      French Ligue 1|           1|           ST|                10|            null| 2012-07-01|                     2016|            46|          Sweden|        1363.0|             ST|                  10|         Right|        4|          4|                       5|   Medium/Low|   Normal (185+)|      Yes|              null|#Poacher, #Aerial...|Power Free-Kick, ...|  76|      91|     81|       86|       34|    86|                76|                 91|                        76|                     84|               92|             88|         80|               80|                76|                90|                   74|                   77|              86|                85|              41|              93|           72|           78|            93|              88|                  84|                     20|                   86|              83|                 91|               null|                         25|                       41|                      27|                13|                  15|                 10|                      9|                  12|             null|87+3|87+3|87+3|84+3|86+3|86+3|86+3|84+3|86+3|86+3|86+3|83+3|76+3|76+3|76+3|83+3|61+3|65+3|65+3|65+3|61+3|56+3|55+3|55+3|55+3|56+3|17+3|https://cdn.sofif...|https://cdn.sofif...|https://cdn.sofif...|https://cdn.sofif...|https://cdn.sofif...|2015|\n",
      "|   167495|https://sofifa.co...|         M. Neuer|  Manuel Peter Neuer|              GK|     90|       90|   6.35E7|300000.0| 28|1986-03-27|      193|       92|        21.0|  FC Bayern München|German 1. Bundesliga|           1|           GK|                 1|            null| 2011-07-01|                     2019|            21|         Germany|        1337.0|             GK|                   1|         Right|        4|          1|                       5|Medium/Medium|   Normal (185+)|      Yes|              null|                null|GK Up for Corners...|null|    null|   null|     null|     null|  null|                25|                 25|                        25|                     42|               25|             25|         25|               25|                41|                31|                   58|                   61|              43|                89|              35|              42|           78|           44|            83|              25|                  29|                     30|                   25|              20|                 37|               null|                         25|                       25|                      25|                87|                  85|                 92|                     90|                  86|               60|38+3|38+3|38+3|36+3|37+3|37+3|37+3|36+3|36+3|36+3|36+3|38+3|36+3|36+3|36+3|38+3|36+3|40+3|40+3|40+3|36+3|36+3|38+3|38+3|38+3|36+3|87+3|https://cdn.sofif...|https://cdn.sofif...|https://cdn.sofif...|https://cdn.sofif...|https://cdn.sofif...|2015|\n",
      "+---------+--------------------+-----------------+--------------------+----------------+-------+---------+---------+--------+---+----------+---------+---------+------------+-------------------+--------------------+------------+-------------+------------------+----------------+-----------+-------------------------+--------------+----------------+--------------+---------------+--------------------+--------------+---------+-----------+------------------------+-------------+----------------+---------+------------------+--------------------+--------------------+----+--------+-------+---------+---------+------+------------------+-------------------+--------------------------+-----------------------+-----------------+---------------+-----------+-----------------+------------------+------------------+---------------------+---------------------+----------------+------------------+----------------+----------------+-------------+-------------+--------------+----------------+--------------------+-----------------------+---------------------+----------------+-------------------+-------------------+---------------------------+-------------------------+------------------------+------------------+--------------------+-------------------+-----------------------+--------------------+-----------------+----+----+----+----+----+----+----+----+----+----+----+----+----+----+----+----+----+----+----+----+----+----+----+----+----+----+----+--------------------+--------------------+--------------------+--------------------+--------------------+----+\n",
      "only showing top 5 rows\n",
      "\n"
     ]
    }
   ],
   "source": [
    "players_df_all.show(5)"
   ]
  },
  {
   "cell_type": "code",
   "execution_count": 11,
   "id": "0dc7fb0e",
   "metadata": {},
   "outputs": [
    {
     "name": "stdout",
     "output_type": "stream",
     "text": [
      "root\n",
      " |-- sofifa_id: integer (nullable = true)\n",
      " |-- player_url: string (nullable = true)\n",
      " |-- short_name: string (nullable = true)\n",
      " |-- long_name: string (nullable = true)\n",
      " |-- player_positions: string (nullable = true)\n",
      " |-- overall: integer (nullable = true)\n",
      " |-- potential: integer (nullable = true)\n",
      " |-- value_eur: double (nullable = true)\n",
      " |-- wage_eur: double (nullable = true)\n",
      " |-- age: integer (nullable = true)\n",
      " |-- dob: string (nullable = true)\n",
      " |-- height_cm: integer (nullable = true)\n",
      " |-- weight_kg: integer (nullable = true)\n",
      " |-- club_team_id: double (nullable = true)\n",
      " |-- club_name: string (nullable = true)\n",
      " |-- league_name: string (nullable = true)\n",
      " |-- league_level: integer (nullable = true)\n",
      " |-- club_position: string (nullable = true)\n",
      " |-- club_jersey_number: integer (nullable = true)\n",
      " |-- club_loaned_from: string (nullable = true)\n",
      " |-- club_joined: string (nullable = true)\n",
      " |-- club_contract_valid_until: integer (nullable = true)\n",
      " |-- nationality_id: integer (nullable = true)\n",
      " |-- nationality_name: string (nullable = true)\n",
      " |-- nation_team_id: double (nullable = true)\n",
      " |-- nation_position: string (nullable = true)\n",
      " |-- nation_jersey_number: integer (nullable = true)\n",
      " |-- preferred_foot: string (nullable = true)\n",
      " |-- weak_foot: integer (nullable = true)\n",
      " |-- skill_moves: integer (nullable = true)\n",
      " |-- international_reputation: integer (nullable = true)\n",
      " |-- work_rate: string (nullable = true)\n",
      " |-- body_type: string (nullable = true)\n",
      " |-- real_face: string (nullable = true)\n",
      " |-- release_clause_eur: string (nullable = true)\n",
      " |-- player_tags: string (nullable = true)\n",
      " |-- player_traits: string (nullable = true)\n",
      " |-- pace: integer (nullable = true)\n",
      " |-- shooting: integer (nullable = true)\n",
      " |-- passing: integer (nullable = true)\n",
      " |-- dribbling: integer (nullable = true)\n",
      " |-- defending: integer (nullable = true)\n",
      " |-- physic: integer (nullable = true)\n",
      " |-- attacking_crossing: integer (nullable = true)\n",
      " |-- attacking_finishing: integer (nullable = true)\n",
      " |-- attacking_heading_accuracy: integer (nullable = true)\n",
      " |-- attacking_short_passing: integer (nullable = true)\n",
      " |-- attacking_volleys: integer (nullable = true)\n",
      " |-- skill_dribbling: integer (nullable = true)\n",
      " |-- skill_curve: integer (nullable = true)\n",
      " |-- skill_fk_accuracy: integer (nullable = true)\n",
      " |-- skill_long_passing: integer (nullable = true)\n",
      " |-- skill_ball_control: integer (nullable = true)\n",
      " |-- movement_acceleration: integer (nullable = true)\n",
      " |-- movement_sprint_speed: integer (nullable = true)\n",
      " |-- movement_agility: integer (nullable = true)\n",
      " |-- movement_reactions: integer (nullable = true)\n",
      " |-- movement_balance: integer (nullable = true)\n",
      " |-- power_shot_power: integer (nullable = true)\n",
      " |-- power_jumping: integer (nullable = true)\n",
      " |-- power_stamina: integer (nullable = true)\n",
      " |-- power_strength: integer (nullable = true)\n",
      " |-- power_long_shots: integer (nullable = true)\n",
      " |-- mentality_aggression: integer (nullable = true)\n",
      " |-- mentality_interceptions: integer (nullable = true)\n",
      " |-- mentality_positioning: integer (nullable = true)\n",
      " |-- mentality_vision: integer (nullable = true)\n",
      " |-- mentality_penalties: integer (nullable = true)\n",
      " |-- mentality_composure: string (nullable = true)\n",
      " |-- defending_marking_awareness: integer (nullable = true)\n",
      " |-- defending_standing_tackle: integer (nullable = true)\n",
      " |-- defending_sliding_tackle: integer (nullable = true)\n",
      " |-- goalkeeping_diving: integer (nullable = true)\n",
      " |-- goalkeeping_handling: integer (nullable = true)\n",
      " |-- goalkeeping_kicking: integer (nullable = true)\n",
      " |-- goalkeeping_positioning: integer (nullable = true)\n",
      " |-- goalkeeping_reflexes: integer (nullable = true)\n",
      " |-- goalkeeping_speed: integer (nullable = true)\n",
      " |-- ls: string (nullable = true)\n",
      " |-- st: string (nullable = true)\n",
      " |-- rs: string (nullable = true)\n",
      " |-- lw: string (nullable = true)\n",
      " |-- lf: string (nullable = true)\n",
      " |-- cf: string (nullable = true)\n",
      " |-- rf: string (nullable = true)\n",
      " |-- rw: string (nullable = true)\n",
      " |-- lam: string (nullable = true)\n",
      " |-- cam: string (nullable = true)\n",
      " |-- ram: string (nullable = true)\n",
      " |-- lm: string (nullable = true)\n",
      " |-- lcm: string (nullable = true)\n",
      " |-- cm: string (nullable = true)\n",
      " |-- rcm: string (nullable = true)\n",
      " |-- rm: string (nullable = true)\n",
      " |-- lwb: string (nullable = true)\n",
      " |-- ldm: string (nullable = true)\n",
      " |-- cdm: string (nullable = true)\n",
      " |-- rdm: string (nullable = true)\n",
      " |-- rwb: string (nullable = true)\n",
      " |-- lb: string (nullable = true)\n",
      " |-- lcb: string (nullable = true)\n",
      " |-- cb: string (nullable = true)\n",
      " |-- rcb: string (nullable = true)\n",
      " |-- rb: string (nullable = true)\n",
      " |-- gk: string (nullable = true)\n",
      " |-- player_face_url: string (nullable = true)\n",
      " |-- club_logo_url: string (nullable = true)\n",
      " |-- club_flag_url: string (nullable = true)\n",
      " |-- nation_logo_url: string (nullable = true)\n",
      " |-- nation_flag_url: string (nullable = true)\n",
      " |-- year: integer (nullable = false)\n",
      "\n"
     ]
    }
   ],
   "source": [
    "players_df_all.printSchema()"
   ]
  },
  {
   "cell_type": "markdown",
   "id": "e245924b",
   "metadata": {},
   "source": [
    "### Changing datatypes"
   ]
  },
  {
   "cell_type": "code",
   "execution_count": 12,
   "id": "dba1bf18",
   "metadata": {},
   "outputs": [],
   "source": [
    "casted_types_df = (players_df_all.withColumn(\"fifa_id\", players_df_all[\"sofifa_id\"].cast(\"string\")).drop(\"sofifa_id\")\n",
    "              .withColumn(\"date_of_birth\", to_date(col(\"dob\"), \"yyyy-MM-dd\")).drop(\"dob\")\n",
    "              .withColumn(\"club_team_id_str\", players_df_all[\"club_team_id\"].cast(\"string\")).drop(\"club_team_id\")\n",
    "              .withColumn(\"club_jersey_number_str\", players_df_all[\"club_jersey_number\"].cast(\"string\")).drop(\"club_jersey_number\")\n",
    "              .withColumn(\"club_joined_date\", to_date(col(\"club_joined\"), \"yyyy-MM-dd\")).drop(\"club_joined\")\n",
    "              .withColumn(\"nationality_id_str\", players_df_all[\"nationality_id\"].cast(\"string\")).drop(\"nationality_id\")\n",
    "              .withColumn(\"nation_team_id_str\", players_df_all[\"nation_team_id\"].cast(\"string\")).drop(\"nation_team_id\")\n",
    "              .withColumn(\"nation_jersey_number_str\", players_df_all[\"nation_jersey_number\"].cast(\"string\")).drop(\"nation_jersey_number\")\n",
    "              .withColumn(\"release_clause_euro\", players_df_all[\"release_clause_eur\"].cast(\"double\")).drop(\"release_clause_eur\")   \n",
    "              .withColumn(\"mentality_composure_\", players_df_all[\"mentality_composure\"].cast(\"integer\")).drop(\"mentality_composure\")   \n",
    "              .distinct()\n",
    "           )"
   ]
  },
  {
   "cell_type": "code",
   "execution_count": 13,
   "id": "e01e9756",
   "metadata": {},
   "outputs": [
    {
     "name": "stderr",
     "output_type": "stream",
     "text": [
      "[Stage 44:==================================================>     (26 + 3) / 29]\r"
     ]
    },
    {
     "name": "stdout",
     "output_type": "stream",
     "text": [
      "+--------------------+-----------+--------------------+----------------+-------+---------+---------+--------+---+---------+---------+--------------------+--------------------+------------+-------------+----------------+-------------------------+----------------+---------------+--------------+---------+-----------+------------------------+-------------+----------------+---------+-----------+--------------------+----+--------+-------+---------+---------+------+------------------+-------------------+--------------------------+-----------------------+-----------------+---------------+-----------+-----------------+------------------+------------------+---------------------+---------------------+----------------+------------------+----------------+----------------+-------------+-------------+--------------+----------------+--------------------+-----------------------+---------------------+----------------+-------------------+---------------------------+-------------------------+------------------------+------------------+--------------------+-------------------+-----------------------+--------------------+-----------------+----+----+----+----+----+----+----+----+----+----+----+----+----+----+----+----+----+----+----+----+----+----+----+----+----+----+----+--------------------+--------------------+--------------------+--------------------+--------------------+----+-------+-------------+----------------+----------------------+----------------+------------------+------------------+------------------------+-------------------+--------------------+\n",
      "|          player_url| short_name|           long_name|player_positions|overall|potential|value_eur|wage_eur|age|height_cm|weight_kg|           club_name|         league_name|league_level|club_position|club_loaned_from|club_contract_valid_until|nationality_name|nation_position|preferred_foot|weak_foot|skill_moves|international_reputation|    work_rate|       body_type|real_face|player_tags|       player_traits|pace|shooting|passing|dribbling|defending|physic|attacking_crossing|attacking_finishing|attacking_heading_accuracy|attacking_short_passing|attacking_volleys|skill_dribbling|skill_curve|skill_fk_accuracy|skill_long_passing|skill_ball_control|movement_acceleration|movement_sprint_speed|movement_agility|movement_reactions|movement_balance|power_shot_power|power_jumping|power_stamina|power_strength|power_long_shots|mentality_aggression|mentality_interceptions|mentality_positioning|mentality_vision|mentality_penalties|defending_marking_awareness|defending_standing_tackle|defending_sliding_tackle|goalkeeping_diving|goalkeeping_handling|goalkeeping_kicking|goalkeeping_positioning|goalkeeping_reflexes|goalkeeping_speed|  ls|  st|  rs|  lw|  lf|  cf|  rf|  rw| lam| cam| ram|  lm| lcm|  cm| rcm|  rm| lwb| ldm| cdm| rdm| rwb|  lb| lcb|  cb| rcb|  rb|  gk|     player_face_url|       club_logo_url|       club_flag_url|     nation_logo_url|     nation_flag_url|year|fifa_id|date_of_birth|club_team_id_str|club_jersey_number_str|club_joined_date|nationality_id_str|nation_team_id_str|nation_jersey_number_str|release_clause_euro|mentality_composure_|\n",
      "+--------------------+-----------+--------------------+----------------+-------+---------+---------+--------+---+---------+---------+--------------------+--------------------+------------+-------------+----------------+-------------------------+----------------+---------------+--------------+---------+-----------+------------------------+-------------+----------------+---------+-----------+--------------------+----+--------+-------+---------+---------+------+------------------+-------------------+--------------------------+-----------------------+-----------------+---------------+-----------+-----------------+------------------+------------------+---------------------+---------------------+----------------+------------------+----------------+----------------+-------------+-------------+--------------+----------------+--------------------+-----------------------+---------------------+----------------+-------------------+---------------------------+-------------------------+------------------------+------------------+--------------------+-------------------+-----------------------+--------------------+-----------------+----+----+----+----+----+----+----+----+----+----+----+----+----+----+----+----+----+----+----+----+----+----+----+----+----+----+----+--------------------+--------------------+--------------------+--------------------+--------------------+----+-------+-------------+----------------+----------------------+----------------+------------------+------------------+------------------------+-------------------+--------------------+\n",
      "|https://sofifa.co...|       Pepe|Kléper Laveran de...|         CB, CDM|     83|       83|    1.0E7|130000.0| 31|      188|       81|      Real Madrid CF|Spain Primera Div...|           1|          RCB|            null|                     2016|        Portugal|            RCB|         Right|        3|          2|                       3|  Medium/High|     Lean (185+)|      Yes| #Tackling |Dives Into Tackle...|  73|      51|     58|       59|       84|    83|                46|                 46|                        80|                     67|               23|             58|         44|               47|                60|                57|                   69|                   77|              67|                73|              58|              63|           78|           75|            83|              56|                  94|                     83|                   40|              58|                 57|                         82|                       86|                      90|                 8|                  15|                  5|                      9|                  10|             null|58+1|58+1|58+1|58+1|59+1|59+1|59+1|58+1|59+1|59+1|59+1|60+1|64+1|64+1|64+1|60+1|72+1|73+1|73+1|73+1|72+1|77+1|82+1|82+1|82+1|77+1|14+1|https://cdn.sofif...|https://cdn.sofif...|https://cdn.sofif...|https://cdn.sofif...|https://cdn.sofif...|2015| 120533|   1983-02-26|           243.0|                     3|      2007-07-01|                38|            1354.0|                       3|               null|                null|\n",
      "|https://sofifa.co...|    Soldado|Roberto Soldado R...|              ST|     81|       81|   1.15E7| 90000.0| 29|      179|       72|   Tottenham Hotspur|English Premier L...|           1|          SUB|            null|                     2017|           Spain|           null|         Right|        3|          3|                       3|   Medium/Low|Normal (170-185)|      Yes|       null|                null|  76|      81|     68|       76|       42|    75|                67|                 84|                        82|                     70|               81|             75|         74|               64|                59|                79|                   75|                   76|              71|                81|              71|              82|           83|           75|            76|              73|                  72|                     40|                   84|              73|                 85|                         32|                       40|                      37|                12|                  12|                 13|                      8|                   5|             null|80+1|80+1|80+1|75+1|79+1|79+1|79+1|75+1|76+1|76+1|76+1|73+1|69+1|69+1|69+1|73+1|59+1|61+1|61+1|61+1|59+1|58+1|56+1|56+1|56+1|58+1|14+1|https://cdn.sofif...|https://cdn.sofif...|https://cdn.sofif...|                null|https://cdn.sofif...|2015| 146758|   1985-05-27|            18.0|                     9|      2013-08-05|                45|              null|                    null|               null|                null|\n",
      "|https://sofifa.co...|Raúl García|Raúl García Escudero|     RM, CAM, ST|     79|       79|8000000.0|110000.0| 27|      184|       81|  Atlético de Madrid|Spain Primera Div...|           1|          SUB|            null|                     2018|           Spain|            SUB|         Right|        3|          2|                       2|Medium/Medium|Normal (170-185)|      Yes|       null|        Power Header|  72|      74|     80|       77|       65|    80|                78|                 70|                        84|                     84|               54|             78|         75|               67|                83|                81|                   69|                   74|              64|                82|              63|              85|           73|           79|            81|              75|                  82|                     69|                   83|              77|                 76|                         53|                       70|                      62|                13|                  15|                 13|                     15|                  14|             null|  77|  77|  77|  78|  79|  79|  79|  78|  79|  79|  79|  79|  79|  79|  79|  79|  73|  76|  76|  76|  73|  73|  72|  72|  72|  73|  18|https://cdn.sofif...|https://cdn.sofif...|https://cdn.sofif...|https://cdn.sofif...|https://cdn.sofif...|2015| 171579|   1986-07-11|           240.0|                     8|      2007-07-01|                45|            1362.0|                       7|               null|                null|\n",
      "|https://sofifa.co...|C. Zambrano|Carlos Augusto Za...|              CB|     77|       80|4900000.0| 50000.0| 24|      185|       78| Eintracht Frankfurt|German 1. Bundesliga|           1|          RCB|            null|                     2015|            Peru|            RCB|         Right|        3|          2|                       2|Medium/Medium|   Normal (185+)|       No|       null|                null|  73|      50|     58|       66|       77|    80|                51|                 40|                        75|                     72|               36|             65|         35|               32|                70|                69|                   71|                   75|              65|                75|              60|              68|           81|           75|            79|              60|                  87|                     74|                   45|              44|                 43|                         76|                       79|                      77|                13|                  11|                 12|                     11|                  13|             null|  60|  60|  60|  61|  61|  61|  61|  61|  61|  61|  61|  64|  66|  66|  66|  64|  71|  72|  72|  72|  71|  74|  77|  77|  77|  74|  16|https://cdn.sofif...|https://cdn.sofif...|https://cdn.sofif...|https://cdn.sofif...|https://cdn.sofif...|2015| 187132|   1989-07-10|          1824.0|                     5|      2012-08-17|                59|          111108.0|                       5|               null|                null|\n",
      "|https://sofifa.co...| P. Morales|Pedro Andrés Mora...|             CAM|     76|       76|5500000.0| 30000.0| 29|      180|       77|Vancouver Whiteca...|USA Major League ...|           1|          SUB|            null|                     2019|           Chile|           null|         Right|        3|          4|                       2|   Medium/Low|  Lean (170-185)|       No|       null|Power Free-Kick, ...|  69|      75|     77|       75|       30|    50|                81|                 70|                        55|                     74|               71|             74|         81|               74|                79|                78|                   69|                   69|              79|                72|              70|              81|           67|           66|            41|              82|                  48|                     22|                   76|              76|                 73|                         25|                       33|                      22|                 6|                  10|                 14|                      6|                   6|             null|  71|  71|  71|  76|  74|  74|  74|  76|  76|  76|  76|  75|  69|  69|  69|  75|  55|  55|  55|  55|  55|  48|  41|  41|  41|  48|  11|https://cdn.sofif...|https://cdn.sofif...|https://cdn.sofif...|                null|https://cdn.sofif...|2015| 191725|   1985-05-25|        101112.0|                    77|      2014-03-05|                55|              null|                    null|               null|                null|\n",
      "+--------------------+-----------+--------------------+----------------+-------+---------+---------+--------+---+---------+---------+--------------------+--------------------+------------+-------------+----------------+-------------------------+----------------+---------------+--------------+---------+-----------+------------------------+-------------+----------------+---------+-----------+--------------------+----+--------+-------+---------+---------+------+------------------+-------------------+--------------------------+-----------------------+-----------------+---------------+-----------+-----------------+------------------+------------------+---------------------+---------------------+----------------+------------------+----------------+----------------+-------------+-------------+--------------+----------------+--------------------+-----------------------+---------------------+----------------+-------------------+---------------------------+-------------------------+------------------------+------------------+--------------------+-------------------+-----------------------+--------------------+-----------------+----+----+----+----+----+----+----+----+----+----+----+----+----+----+----+----+----+----+----+----+----+----+----+----+----+----+----+--------------------+--------------------+--------------------+--------------------+--------------------+----+-------+-------------+----------------+----------------------+----------------+------------------+------------------+------------------------+-------------------+--------------------+\n",
      "only showing top 5 rows\n",
      "\n"
     ]
    },
    {
     "name": "stderr",
     "output_type": "stream",
     "text": [
      "\r",
      "                                                                                \r"
     ]
    }
   ],
   "source": [
    "casted_types_df.show(5)"
   ]
  },
  {
   "cell_type": "markdown",
   "id": "050e360c",
   "metadata": {},
   "source": [
    "### Preprocessing rows that requiring adding up values or subtracting values"
   ]
  },
  {
   "cell_type": "code",
   "execution_count": 14,
   "id": "0ef8d102",
   "metadata": {},
   "outputs": [],
   "source": [
    "# define a function to add/subtract a string equation with single operand\n",
    "\n",
    "def compute_arithmetic(val):\n",
    "    if '+' in val:\n",
    "        nums = val.split('+')\n",
    "        return int(nums[0])+int(nums[1])\n",
    "    elif '-' in val:\n",
    "        nums = val.split('-')\n",
    "        return int(nums[0])-int(nums[1])\n",
    "    else:\n",
    "        return int(val)"
   ]
  },
  {
   "cell_type": "code",
   "execution_count": 15,
   "id": "888b79f9",
   "metadata": {},
   "outputs": [],
   "source": [
    "# define a udf with the above function \n",
    "\n",
    "udf_compute_arithmetic = udf(lambda x:compute_arithmetic(x),IntegerType() )"
   ]
  },
  {
   "cell_type": "code",
   "execution_count": 16,
   "id": "1ee6c650",
   "metadata": {},
   "outputs": [],
   "source": [
    "# applying udf to required rows\n",
    "\n",
    "parsed_df = casted_types_df.withColumn(\"ls\",udf_compute_arithmetic(col(\"ls\")))\\\n",
    "                            .withColumn(\"st\",udf_compute_arithmetic(col(\"st\")))\\\n",
    "                            .withColumn(\"rs\",udf_compute_arithmetic(col(\"rs\")))\\\n",
    "                            .withColumn(\"lw\",udf_compute_arithmetic(col(\"lw\")))\\\n",
    "                            .withColumn(\"lf\",udf_compute_arithmetic(col(\"lf\")))\\\n",
    "                            .withColumn(\"cf\",udf_compute_arithmetic(col(\"cf\")))\\\n",
    "                            .withColumn(\"rf\",udf_compute_arithmetic(col(\"rf\")))\\\n",
    "                            .withColumn(\"rw\",udf_compute_arithmetic(col(\"rw\")))\\\n",
    "                            .withColumn(\"lam\",udf_compute_arithmetic(col(\"lam\")))\\\n",
    "                            .withColumn(\"cam\",udf_compute_arithmetic(col(\"cam\")))\\\n",
    "                            .withColumn(\"ram\",udf_compute_arithmetic(col(\"ram\")))\\\n",
    "                            .withColumn(\"lm\",udf_compute_arithmetic(col(\"lm\")))\\\n",
    "                            .withColumn(\"lcm\",udf_compute_arithmetic(col(\"lcm\")))\\\n",
    "                            .withColumn(\"cm\",udf_compute_arithmetic(col(\"cm\")))\\\n",
    "                            .withColumn(\"rcm\",udf_compute_arithmetic(col(\"rcm\")))\\\n",
    "                            .withColumn(\"rm\",udf_compute_arithmetic(col(\"rm\")))\\\n",
    "                            .withColumn(\"lwb\",udf_compute_arithmetic(col(\"lwb\")))\\\n",
    "                            .withColumn(\"ldm\",udf_compute_arithmetic(col(\"ldm\")))\\\n",
    "                            .withColumn(\"cdm\",udf_compute_arithmetic(col(\"cdm\")))\\\n",
    "                            .withColumn(\"rdm\",udf_compute_arithmetic(col(\"rdm\")))\\\n",
    "                            .withColumn(\"rwb\",udf_compute_arithmetic(col(\"rwb\")))\\\n",
    "                            .withColumn(\"lb\",udf_compute_arithmetic(col(\"lb\")))\\\n",
    "                            .withColumn(\"lcb\",udf_compute_arithmetic(col(\"lcb\")))\\\n",
    "                            .withColumn(\"cb\",udf_compute_arithmetic(col(\"cb\")))\\\n",
    "                            .withColumn(\"rcb\",udf_compute_arithmetic(col(\"rcb\")))\\\n",
    "                            .withColumn(\"rb\",udf_compute_arithmetic(col(\"rb\")))\\\n",
    "                            .withColumn(\"gk\",udf_compute_arithmetic(col(\"gk\")))"
   ]
  },
  {
   "cell_type": "code",
   "execution_count": 18,
   "id": "44b63689",
   "metadata": {},
   "outputs": [
    {
     "name": "stderr",
     "output_type": "stream",
     "text": [
      "[Stage 50:==================================================>     (26 + 3) / 29]\r"
     ]
    },
    {
     "name": "stdout",
     "output_type": "stream",
     "text": [
      "+--------------------+-----------+--------------------+----------------+-------+---------+---------+--------+---+---------+---------+--------------------+--------------------+------------+-------------+----------------+-------------------------+----------------+---------------+--------------+---------+-----------+------------------------+-------------+----------------+---------+-----------+--------------------+----+--------+-------+---------+---------+------+------------------+-------------------+--------------------------+-----------------------+-----------------+---------------+-----------+-----------------+------------------+------------------+---------------------+---------------------+----------------+------------------+----------------+----------------+-------------+-------------+--------------+----------------+--------------------+-----------------------+---------------------+----------------+-------------------+---------------------------+-------------------------+------------------------+------------------+--------------------+-------------------+-----------------------+--------------------+-----------------+---+---+---+---+---+---+---+---+---+---+---+---+---+---+---+---+---+---+---+---+---+---+---+---+---+---+---+--------------------+--------------------+--------------------+--------------------+--------------------+----+-------+-------------+----------------+----------------------+----------------+------------------+------------------+------------------------+-------------------+--------------------+\n",
      "|          player_url| short_name|           long_name|player_positions|overall|potential|value_eur|wage_eur|age|height_cm|weight_kg|           club_name|         league_name|league_level|club_position|club_loaned_from|club_contract_valid_until|nationality_name|nation_position|preferred_foot|weak_foot|skill_moves|international_reputation|    work_rate|       body_type|real_face|player_tags|       player_traits|pace|shooting|passing|dribbling|defending|physic|attacking_crossing|attacking_finishing|attacking_heading_accuracy|attacking_short_passing|attacking_volleys|skill_dribbling|skill_curve|skill_fk_accuracy|skill_long_passing|skill_ball_control|movement_acceleration|movement_sprint_speed|movement_agility|movement_reactions|movement_balance|power_shot_power|power_jumping|power_stamina|power_strength|power_long_shots|mentality_aggression|mentality_interceptions|mentality_positioning|mentality_vision|mentality_penalties|defending_marking_awareness|defending_standing_tackle|defending_sliding_tackle|goalkeeping_diving|goalkeeping_handling|goalkeeping_kicking|goalkeeping_positioning|goalkeeping_reflexes|goalkeeping_speed| ls| st| rs| lw| lf| cf| rf| rw|lam|cam|ram| lm|lcm| cm|rcm| rm|lwb|ldm|cdm|rdm|rwb| lb|lcb| cb|rcb| rb| gk|     player_face_url|       club_logo_url|       club_flag_url|     nation_logo_url|     nation_flag_url|year|fifa_id|date_of_birth|club_team_id_str|club_jersey_number_str|club_joined_date|nationality_id_str|nation_team_id_str|nation_jersey_number_str|release_clause_euro|mentality_composure_|\n",
      "+--------------------+-----------+--------------------+----------------+-------+---------+---------+--------+---+---------+---------+--------------------+--------------------+------------+-------------+----------------+-------------------------+----------------+---------------+--------------+---------+-----------+------------------------+-------------+----------------+---------+-----------+--------------------+----+--------+-------+---------+---------+------+------------------+-------------------+--------------------------+-----------------------+-----------------+---------------+-----------+-----------------+------------------+------------------+---------------------+---------------------+----------------+------------------+----------------+----------------+-------------+-------------+--------------+----------------+--------------------+-----------------------+---------------------+----------------+-------------------+---------------------------+-------------------------+------------------------+------------------+--------------------+-------------------+-----------------------+--------------------+-----------------+---+---+---+---+---+---+---+---+---+---+---+---+---+---+---+---+---+---+---+---+---+---+---+---+---+---+---+--------------------+--------------------+--------------------+--------------------+--------------------+----+-------+-------------+----------------+----------------------+----------------+------------------+------------------+------------------------+-------------------+--------------------+\n",
      "|https://sofifa.co...|       Pepe|Kléper Laveran de...|         CB, CDM|     83|       83|    1.0E7|130000.0| 31|      188|       81|      Real Madrid CF|Spain Primera Div...|           1|          RCB|            null|                     2016|        Portugal|            RCB|         Right|        3|          2|                       3|  Medium/High|     Lean (185+)|      Yes| #Tackling |Dives Into Tackle...|  73|      51|     58|       59|       84|    83|                46|                 46|                        80|                     67|               23|             58|         44|               47|                60|                57|                   69|                   77|              67|                73|              58|              63|           78|           75|            83|              56|                  94|                     83|                   40|              58|                 57|                         82|                       86|                      90|                 8|                  15|                  5|                      9|                  10|             null| 59| 59| 59| 59| 60| 60| 60| 59| 60| 60| 60| 61| 65| 65| 65| 61| 73| 74| 74| 74| 73| 78| 83| 83| 83| 78| 15|https://cdn.sofif...|https://cdn.sofif...|https://cdn.sofif...|https://cdn.sofif...|https://cdn.sofif...|2015| 120533|   1983-02-26|           243.0|                     3|      2007-07-01|                38|            1354.0|                       3|               null|                null|\n",
      "|https://sofifa.co...|    Soldado|Roberto Soldado R...|              ST|     81|       81|   1.15E7| 90000.0| 29|      179|       72|   Tottenham Hotspur|English Premier L...|           1|          SUB|            null|                     2017|           Spain|           null|         Right|        3|          3|                       3|   Medium/Low|Normal (170-185)|      Yes|       null|                null|  76|      81|     68|       76|       42|    75|                67|                 84|                        82|                     70|               81|             75|         74|               64|                59|                79|                   75|                   76|              71|                81|              71|              82|           83|           75|            76|              73|                  72|                     40|                   84|              73|                 85|                         32|                       40|                      37|                12|                  12|                 13|                      8|                   5|             null| 81| 81| 81| 76| 80| 80| 80| 76| 77| 77| 77| 74| 70| 70| 70| 74| 60| 62| 62| 62| 60| 59| 57| 57| 57| 59| 15|https://cdn.sofif...|https://cdn.sofif...|https://cdn.sofif...|                null|https://cdn.sofif...|2015| 146758|   1985-05-27|            18.0|                     9|      2013-08-05|                45|              null|                    null|               null|                null|\n",
      "|https://sofifa.co...|Raúl García|Raúl García Escudero|     RM, CAM, ST|     79|       79|8000000.0|110000.0| 27|      184|       81|  Atlético de Madrid|Spain Primera Div...|           1|          SUB|            null|                     2018|           Spain|            SUB|         Right|        3|          2|                       2|Medium/Medium|Normal (170-185)|      Yes|       null|        Power Header|  72|      74|     80|       77|       65|    80|                78|                 70|                        84|                     84|               54|             78|         75|               67|                83|                81|                   69|                   74|              64|                82|              63|              85|           73|           79|            81|              75|                  82|                     69|                   83|              77|                 76|                         53|                       70|                      62|                13|                  15|                 13|                     15|                  14|             null| 77| 77| 77| 78| 79| 79| 79| 78| 79| 79| 79| 79| 79| 79| 79| 79| 73| 76| 76| 76| 73| 73| 72| 72| 72| 73| 18|https://cdn.sofif...|https://cdn.sofif...|https://cdn.sofif...|https://cdn.sofif...|https://cdn.sofif...|2015| 171579|   1986-07-11|           240.0|                     8|      2007-07-01|                45|            1362.0|                       7|               null|                null|\n",
      "|https://sofifa.co...|C. Zambrano|Carlos Augusto Za...|              CB|     77|       80|4900000.0| 50000.0| 24|      185|       78| Eintracht Frankfurt|German 1. Bundesliga|           1|          RCB|            null|                     2015|            Peru|            RCB|         Right|        3|          2|                       2|Medium/Medium|   Normal (185+)|       No|       null|                null|  73|      50|     58|       66|       77|    80|                51|                 40|                        75|                     72|               36|             65|         35|               32|                70|                69|                   71|                   75|              65|                75|              60|              68|           81|           75|            79|              60|                  87|                     74|                   45|              44|                 43|                         76|                       79|                      77|                13|                  11|                 12|                     11|                  13|             null| 60| 60| 60| 61| 61| 61| 61| 61| 61| 61| 61| 64| 66| 66| 66| 64| 71| 72| 72| 72| 71| 74| 77| 77| 77| 74| 16|https://cdn.sofif...|https://cdn.sofif...|https://cdn.sofif...|https://cdn.sofif...|https://cdn.sofif...|2015| 187132|   1989-07-10|          1824.0|                     5|      2012-08-17|                59|          111108.0|                       5|               null|                null|\n",
      "|https://sofifa.co...| P. Morales|Pedro Andrés Mora...|             CAM|     76|       76|5500000.0| 30000.0| 29|      180|       77|Vancouver Whiteca...|USA Major League ...|           1|          SUB|            null|                     2019|           Chile|           null|         Right|        3|          4|                       2|   Medium/Low|  Lean (170-185)|       No|       null|Power Free-Kick, ...|  69|      75|     77|       75|       30|    50|                81|                 70|                        55|                     74|               71|             74|         81|               74|                79|                78|                   69|                   69|              79|                72|              70|              81|           67|           66|            41|              82|                  48|                     22|                   76|              76|                 73|                         25|                       33|                      22|                 6|                  10|                 14|                      6|                   6|             null| 71| 71| 71| 76| 74| 74| 74| 76| 76| 76| 76| 75| 69| 69| 69| 75| 55| 55| 55| 55| 55| 48| 41| 41| 41| 48| 11|https://cdn.sofif...|https://cdn.sofif...|https://cdn.sofif...|                null|https://cdn.sofif...|2015| 191725|   1985-05-25|        101112.0|                    77|      2014-03-05|                55|              null|                    null|               null|                null|\n",
      "+--------------------+-----------+--------------------+----------------+-------+---------+---------+--------+---+---------+---------+--------------------+--------------------+------------+-------------+----------------+-------------------------+----------------+---------------+--------------+---------+-----------+------------------------+-------------+----------------+---------+-----------+--------------------+----+--------+-------+---------+---------+------+------------------+-------------------+--------------------------+-----------------------+-----------------+---------------+-----------+-----------------+------------------+------------------+---------------------+---------------------+----------------+------------------+----------------+----------------+-------------+-------------+--------------+----------------+--------------------+-----------------------+---------------------+----------------+-------------------+---------------------------+-------------------------+------------------------+------------------+--------------------+-------------------+-----------------------+--------------------+-----------------+---+---+---+---+---+---+---+---+---+---+---+---+---+---+---+---+---+---+---+---+---+---+---+---+---+---+---+--------------------+--------------------+--------------------+--------------------+--------------------+----+-------+-------------+----------------+----------------------+----------------+------------------+------------------+------------------------+-------------------+--------------------+\n",
      "only showing top 5 rows\n",
      "\n"
     ]
    },
    {
     "name": "stderr",
     "output_type": "stream",
     "text": [
      "\r",
      "                                                                                \r"
     ]
    }
   ],
   "source": [
    "parsed_df.show(5)"
   ]
  },
  {
   "cell_type": "markdown",
   "id": "1895a948",
   "metadata": {},
   "source": [
    "### Imputing values"
   ]
  },
  {
   "cell_type": "code",
   "execution_count": 19,
   "id": "e419f062",
   "metadata": {},
   "outputs": [
    {
     "name": "stderr",
     "output_type": "stream",
     "text": [
      "                                                                                \r"
     ]
    },
    {
     "name": "stdout",
     "output_type": "stream",
     "text": [
      "+----------+----------+---------+----------------+-------+---------+---------+--------+---+---------+---------+---------+-----------+------------+-------------+----------------+-------------------------+----------------+---------------+--------------+---------+-----------+------------------------+---------+---------+---------+-----------+-------------+----+--------+-------+---------+---------+------+------------------+-------------------+--------------------------+-----------------------+-----------------+---------------+-----------+-----------------+------------------+------------------+---------------------+---------------------+----------------+------------------+----------------+----------------+-------------+-------------+--------------+----------------+--------------------+-----------------------+---------------------+----------------+-------------------+---------------------------+-------------------------+------------------------+------------------+--------------------+-------------------+-----------------------+--------------------+-----------------+---+---+---+---+---+---+---+---+---+---+---+---+---+---+---+---+---+---+---+---+---+---+---+---+---+---+---+---------------+-------------+-------------+---------------+---------------+----+-------+----------------+----------------------+------------------+------------------+------------------------+-------------------+--------------------+\n",
      "|player_url|short_name|long_name|player_positions|overall|potential|value_eur|wage_eur|age|height_cm|weight_kg|club_name|league_name|league_level|club_position|club_loaned_from|club_contract_valid_until|nationality_name|nation_position|preferred_foot|weak_foot|skill_moves|international_reputation|work_rate|body_type|real_face|player_tags|player_traits|pace|shooting|passing|dribbling|defending|physic|attacking_crossing|attacking_finishing|attacking_heading_accuracy|attacking_short_passing|attacking_volleys|skill_dribbling|skill_curve|skill_fk_accuracy|skill_long_passing|skill_ball_control|movement_acceleration|movement_sprint_speed|movement_agility|movement_reactions|movement_balance|power_shot_power|power_jumping|power_stamina|power_strength|power_long_shots|mentality_aggression|mentality_interceptions|mentality_positioning|mentality_vision|mentality_penalties|defending_marking_awareness|defending_standing_tackle|defending_sliding_tackle|goalkeeping_diving|goalkeeping_handling|goalkeeping_kicking|goalkeeping_positioning|goalkeeping_reflexes|goalkeeping_speed| ls| st| rs| lw| lf| cf| rf| rw|lam|cam|ram| lm|lcm| cm|rcm| rm|lwb|ldm|cdm|rdm|rwb| lb|lcb| cb|rcb| rb| gk|player_face_url|club_logo_url|club_flag_url|nation_logo_url|nation_flag_url|year|fifa_id|club_team_id_str|club_jersey_number_str|nationality_id_str|nation_team_id_str|nation_jersey_number_str|release_clause_euro|mentality_composure_|\n",
      "+----------+----------+---------+----------------+-------+---------+---------+--------+---+---------+---------+---------+-----------+------------+-------------+----------------+-------------------------+----------------+---------------+--------------+---------+-----------+------------------------+---------+---------+---------+-----------+-------------+----+--------+-------+---------+---------+------+------------------+-------------------+--------------------------+-----------------------+-----------------+---------------+-----------+-----------------+------------------+------------------+---------------------+---------------------+----------------+------------------+----------------+----------------+-------------+-------------+--------------+----------------+--------------------+-----------------------+---------------------+----------------+-------------------+---------------------------+-------------------------+------------------------+------------------+--------------------+-------------------+-----------------------+--------------------+-----------------+---+---+---+---+---+---+---+---+---+---+---+---+---+---+---+---+---+---+---+---+---+---+---+---+---+---+---+---------------+-------------+-------------+---------------+---------------+----+-------+----------------+----------------------+------------------+------------------+------------------------+-------------------+--------------------+\n",
      "|         0|         0|        0|               0|      0|        0|        0|       0|  0|        0|        0|        0|          0|           0|            0|               0|                        0|               0|              0|             0|        0|          0|                       0|        0|        0|        0|          0|            0|   0|       0|      0|        0|        0|     0|                 0|                  0|                         0|                      0|                0|              0|          0|                0|                 0|                 0|                    0|                    0|               0|                 0|               0|               0|            0|            0|             0|               0|                   0|                      0|                    0|               0|                  0|                          0|                        0|                       0|                 0|                   0|                  0|                      0|                   0|                0|  0|  0|  0|  0|  0|  0|  0|  0|  0|  0|  0|  0|  0|  0|  0|  0|  0|  0|  0|  0|  0|  0|  0|  0|  0|  0|  0|              0|            0|            0|              0|              0|   0|      0|               0|                     0|                 0|                 0|                       0|                  0|                   0|\n",
      "+----------+----------+---------+----------------+-------+---------+---------+--------+---+---------+---------+---------+-----------+------------+-------------+----------------+-------------------------+----------------+---------------+--------------+---------+-----------+------------------------+---------+---------+---------+-----------+-------------+----+--------+-------+---------+---------+------+------------------+-------------------+--------------------------+-----------------------+-----------------+---------------+-----------+-----------------+------------------+------------------+---------------------+---------------------+----------------+------------------+----------------+----------------+-------------+-------------+--------------+----------------+--------------------+-----------------------+---------------------+----------------+-------------------+---------------------------+-------------------------+------------------------+------------------+--------------------+-------------------+-----------------------+--------------------+-----------------+---+---+---+---+---+---+---+---+---+---+---+---+---+---+---+---+---+---+---+---+---+---+---+---+---+---+---+---------------+-------------+-------------+---------------+---------------+----+-------+----------------+----------------------+------------------+------------------+------------------------+-------------------+--------------------+\n",
      "\n"
     ]
    },
    {
     "name": "stderr",
     "output_type": "stream",
     "text": [
      "[Stage 61:===================================================>      (8 + 1) / 9]\r"
     ]
    },
    {
     "name": "stdout",
     "output_type": "stream",
     "text": [
      "+----------+----------+---------+----------------+-------+---------+---------+--------+---+---------+---------+---------+-----------+------------+-------------+----------------+-------------------------+----------------+---------------+--------------+---------+-----------+------------------------+---------+---------+---------+-----------+-------------+-----+--------+-------+---------+---------+------+------------------+-------------------+--------------------------+-----------------------+-----------------+---------------+-----------+-----------------+------------------+------------------+---------------------+---------------------+----------------+------------------+----------------+----------------+-------------+-------------+--------------+----------------+--------------------+-----------------------+---------------------+----------------+-------------------+---------------------------+-------------------------+------------------------+------------------+--------------------+-------------------+-----------------------+--------------------+-----------------+---+---+---+---+---+---+---+---+---+---+---+---+---+---+---+---+---+---+---+---+---+---+---+---+---+---+---+---------------+-------------+-------------+---------------+---------------+----+-------+----------------+----------------------+------------------+------------------+------------------------+-------------------+--------------------+\n",
      "|player_url|short_name|long_name|player_positions|overall|potential|value_eur|wage_eur|age|height_cm|weight_kg|club_name|league_name|league_level|club_position|club_loaned_from|club_contract_valid_until|nationality_name|nation_position|preferred_foot|weak_foot|skill_moves|international_reputation|work_rate|body_type|real_face|player_tags|player_traits| pace|shooting|passing|dribbling|defending|physic|attacking_crossing|attacking_finishing|attacking_heading_accuracy|attacking_short_passing|attacking_volleys|skill_dribbling|skill_curve|skill_fk_accuracy|skill_long_passing|skill_ball_control|movement_acceleration|movement_sprint_speed|movement_agility|movement_reactions|movement_balance|power_shot_power|power_jumping|power_stamina|power_strength|power_long_shots|mentality_aggression|mentality_interceptions|mentality_positioning|mentality_vision|mentality_penalties|defending_marking_awareness|defending_standing_tackle|defending_sliding_tackle|goalkeeping_diving|goalkeeping_handling|goalkeeping_kicking|goalkeeping_positioning|goalkeeping_reflexes|goalkeeping_speed| ls| st| rs| lw| lf| cf| rf| rw|lam|cam|ram| lm|lcm| cm|rcm| rm|lwb|ldm|cdm|rdm|rwb| lb|lcb| cb|rcb| rb| gk|player_face_url|club_logo_url|club_flag_url|nation_logo_url|nation_flag_url|year|fifa_id|club_team_id_str|club_jersey_number_str|nationality_id_str|nation_team_id_str|nation_jersey_number_str|release_clause_euro|mentality_composure_|\n",
      "+----------+----------+---------+----------------+-------+---------+---------+--------+---+---------+---------+---------+-----------+------------+-------------+----------------+-------------------------+----------------+---------------+--------------+---------+-----------+------------------------+---------+---------+---------+-----------+-------------+-----+--------+-------+---------+---------+------+------------------+-------------------+--------------------------+-----------------------+-----------------+---------------+-----------+-----------------+------------------+------------------+---------------------+---------------------+----------------+------------------+----------------+----------------+-------------+-------------+--------------+----------------+--------------------+-----------------------+---------------------+----------------+-------------------+---------------------------+-------------------------+------------------------+------------------+--------------------+-------------------+-----------------------+--------------------+-----------------+---+---+---+---+---+---+---+---+---+---+---+---+---+---+---+---+---+---+---+---+---+---+---+---+---+---+---+---------------+-------------+-------------+---------------+---------------+----+-------+----------------+----------------------+------------------+------------------+------------------------+-------------------+--------------------+\n",
      "|         0|         0|        0|               0|      0|        0|     1897|    1622|  0|        0|        0|     1630|       1630|        2015|         1630|          133774|                     1630|               0|         133635|             0|        0|          0|                       0|        0|        0|        0|     130765|        78771|15791|   15791|  15791|    15791|    15791| 15791|                 0|                  0|                         0|                      0|                0|              0|          0|                0|                 0|                 0|                    0|                    0|               0|                 0|               0|               0|            0|            0|             0|               0|                   0|                      0|                    0|               0|                  0|                          0|                        0|                       0|                 0|                   0|                  0|                      0|                   0|           126288|  0|  0|  0|  0|  0|  0|  0|  0|  0|  0|  0|  0|  0|  0|  0|  0|  0|  0|  0|  0|  0|  0|  0|  0|  0|  0|  0|              0|         1630|         1630|         133635|              0|   0|      0|            1630|                  1630|                 0|            133635|                  133635|              55582|               31778|\n",
      "+----------+----------+---------+----------------+-------+---------+---------+--------+---+---------+---------+---------+-----------+------------+-------------+----------------+-------------------------+----------------+---------------+--------------+---------+-----------+------------------------+---------+---------+---------+-----------+-------------+-----+--------+-------+---------+---------+------+------------------+-------------------+--------------------------+-----------------------+-----------------+---------------+-----------+-----------------+------------------+------------------+---------------------+---------------------+----------------+------------------+----------------+----------------+-------------+-------------+--------------+----------------+--------------------+-----------------------+---------------------+----------------+-------------------+---------------------------+-------------------------+------------------------+------------------+--------------------+-------------------+-----------------------+--------------------+-----------------+---+---+---+---+---+---+---+---+---+---+---+---+---+---+---+---+---+---+---+---+---+---+---+---+---+---+---+---------------+-------------+-------------+---------------+---------------+----+-------+----------------+----------------------+------------------+------------------+------------------------+-------------------+--------------------+\n",
      "\n"
     ]
    },
    {
     "name": "stderr",
     "output_type": "stream",
     "text": [
      "\r",
      "                                                                                \r"
     ]
    }
   ],
   "source": [
    "drop_types_df = parsed_df.drop(col(\"date_of_birth\")).drop(col(\"club_joined_date\"))\n",
    "\n",
    "drop_types_df.select([count(when(isnan(c), c)).alias(c) for c in drop_types_df.columns]).show()\n",
    "\n",
    "drop_types_df.select([count(when(isnan(c) | col(c).isNull(), c)).alias(c) for c in drop_types_df.columns]).show()"
   ]
  },
  {
   "cell_type": "markdown",
   "id": "2d783b3d",
   "metadata": {},
   "source": [
    "Though some columns like nation_position are missing for ~133k records, I will not be dropping these \n",
    "because the reason for this is known. \n",
    "\n",
    "Many players only play for clubs and are not part of national teams. This information might be useful \n",
    "for analysis on national players.\n",
    "\n",
    "Fields like league_level aren't being filled because it probably doesn't make sence for players who only play in \n",
    "national teams."
   ]
  },
  {
   "cell_type": "code",
   "execution_count": 20,
   "id": "be855683",
   "metadata": {},
   "outputs": [
    {
     "name": "stderr",
     "output_type": "stream",
     "text": [
      "                                                                                \r"
     ]
    }
   ],
   "source": [
    "# imputing with mean \n",
    "\n",
    "imputing_cols = ['value_eur','wage_eur', 'pace', 'shooting', 'passing', \\\n",
    "                                 'dribbling', 'defending', 'physic', 'mentality_composure_']\n",
    "\n",
    "filled_df = parsed_df.fillna(-1,imputing_cols)\n",
    "\n",
    "imputer = Imputer (\n",
    "inputCols=imputing_cols,\n",
    "outputCols=[\"{}_imputed\".format(c) for c in imputing_cols]\n",
    ").setStrategy(\"mean\").setMissingValue(-1) \n",
    "\n",
    "imputed_df = imputer.fit(filled_df).transform(filled_df)"
   ]
  },
  {
   "cell_type": "code",
   "execution_count": 21,
   "id": "4df99a9d",
   "metadata": {},
   "outputs": [],
   "source": [
    "#set goalkeeping_speed, release_clause_euro to 0\n",
    "\n",
    "imputed_filled_df = imputed_df.fillna(0,['goalkeeping_speed', 'release_clause_euro'])"
   ]
  },
  {
   "cell_type": "code",
   "execution_count": 22,
   "id": "5832ab4e",
   "metadata": {},
   "outputs": [
    {
     "name": "stderr",
     "output_type": "stream",
     "text": [
      "[Stage 74:======================================================> (28 + 1) / 29]\r"
     ]
    },
    {
     "name": "stdout",
     "output_type": "stream",
     "text": [
      "+--------------------+-----------+--------------------+----------------+-------+---------+---------+--------+---+---------+---------+--------------------+--------------------+------------+-------------+----------------+-------------------------+----------------+---------------+--------------+---------+-----------+------------------------+-------------+----------------+---------+-----------+--------------------+----+--------+-------+---------+---------+------+------------------+-------------------+--------------------------+-----------------------+-----------------+---------------+-----------+-----------------+------------------+------------------+---------------------+---------------------+----------------+------------------+----------------+----------------+-------------+-------------+--------------+----------------+--------------------+-----------------------+---------------------+----------------+-------------------+---------------------------+-------------------------+------------------------+------------------+--------------------+-------------------+-----------------------+--------------------+-----------------+---+---+---+---+---+---+---+---+---+---+---+---+---+---+---+---+---+---+---+---+---+---+---+---+---+---+---+--------------------+--------------------+--------------------+--------------------+--------------------+----+-------+-------------+----------------+----------------------+----------------+------------------+------------------+------------------------+-------------------+--------------------+-----------------+----------------+------------+----------------+---------------+-----------------+-----------------+--------------+----------------------------+\n",
      "|          player_url| short_name|           long_name|player_positions|overall|potential|value_eur|wage_eur|age|height_cm|weight_kg|           club_name|         league_name|league_level|club_position|club_loaned_from|club_contract_valid_until|nationality_name|nation_position|preferred_foot|weak_foot|skill_moves|international_reputation|    work_rate|       body_type|real_face|player_tags|       player_traits|pace|shooting|passing|dribbling|defending|physic|attacking_crossing|attacking_finishing|attacking_heading_accuracy|attacking_short_passing|attacking_volleys|skill_dribbling|skill_curve|skill_fk_accuracy|skill_long_passing|skill_ball_control|movement_acceleration|movement_sprint_speed|movement_agility|movement_reactions|movement_balance|power_shot_power|power_jumping|power_stamina|power_strength|power_long_shots|mentality_aggression|mentality_interceptions|mentality_positioning|mentality_vision|mentality_penalties|defending_marking_awareness|defending_standing_tackle|defending_sliding_tackle|goalkeeping_diving|goalkeeping_handling|goalkeeping_kicking|goalkeeping_positioning|goalkeeping_reflexes|goalkeeping_speed| ls| st| rs| lw| lf| cf| rf| rw|lam|cam|ram| lm|lcm| cm|rcm| rm|lwb|ldm|cdm|rdm|rwb| lb|lcb| cb|rcb| rb| gk|     player_face_url|       club_logo_url|       club_flag_url|     nation_logo_url|     nation_flag_url|year|fifa_id|date_of_birth|club_team_id_str|club_jersey_number_str|club_joined_date|nationality_id_str|nation_team_id_str|nation_jersey_number_str|release_clause_euro|mentality_composure_|value_eur_imputed|wage_eur_imputed|pace_imputed|shooting_imputed|passing_imputed|dribbling_imputed|defending_imputed|physic_imputed|mentality_composure__imputed|\n",
      "+--------------------+-----------+--------------------+----------------+-------+---------+---------+--------+---+---------+---------+--------------------+--------------------+------------+-------------+----------------+-------------------------+----------------+---------------+--------------+---------+-----------+------------------------+-------------+----------------+---------+-----------+--------------------+----+--------+-------+---------+---------+------+------------------+-------------------+--------------------------+-----------------------+-----------------+---------------+-----------+-----------------+------------------+------------------+---------------------+---------------------+----------------+------------------+----------------+----------------+-------------+-------------+--------------+----------------+--------------------+-----------------------+---------------------+----------------+-------------------+---------------------------+-------------------------+------------------------+------------------+--------------------+-------------------+-----------------------+--------------------+-----------------+---+---+---+---+---+---+---+---+---+---+---+---+---+---+---+---+---+---+---+---+---+---+---+---+---+---+---+--------------------+--------------------+--------------------+--------------------+--------------------+----+-------+-------------+----------------+----------------------+----------------+------------------+------------------+------------------------+-------------------+--------------------+-----------------+----------------+------------+----------------+---------------+-----------------+-----------------+--------------+----------------------------+\n",
      "|https://sofifa.co...|       Pepe|Kléper Laveran de...|         CB, CDM|     83|       83|    1.0E7|130000.0| 31|      188|       81|      Real Madrid CF|Spain Primera Div...|           1|          RCB|            null|                     2016|        Portugal|            RCB|         Right|        3|          2|                       3|  Medium/High|     Lean (185+)|      Yes| #Tackling |Dives Into Tackle...|  73|      51|     58|       59|       84|    83|                46|                 46|                        80|                     67|               23|             58|         44|               47|                60|                57|                   69|                   77|              67|                73|              58|              63|           78|           75|            83|              56|                  94|                     83|                   40|              58|                 57|                         82|                       86|                      90|                 8|                  15|                  5|                      9|                  10|                0| 59| 59| 59| 59| 60| 60| 60| 59| 60| 60| 60| 61| 65| 65| 65| 61| 73| 74| 74| 74| 73| 78| 83| 83| 83| 78| 15|https://cdn.sofif...|https://cdn.sofif...|https://cdn.sofif...|https://cdn.sofif...|https://cdn.sofif...|2015| 120533|   1983-02-26|           243.0|                     3|      2007-07-01|                38|            1354.0|                       3|                0.0|                  -1|            1.0E7|        130000.0|          73|              51|             58|               59|               84|            83|                          57|\n",
      "|https://sofifa.co...|    Soldado|Roberto Soldado R...|              ST|     81|       81|   1.15E7| 90000.0| 29|      179|       72|   Tottenham Hotspur|English Premier L...|           1|          SUB|            null|                     2017|           Spain|           null|         Right|        3|          3|                       3|   Medium/Low|Normal (170-185)|      Yes|       null|                null|  76|      81|     68|       76|       42|    75|                67|                 84|                        82|                     70|               81|             75|         74|               64|                59|                79|                   75|                   76|              71|                81|              71|              82|           83|           75|            76|              73|                  72|                     40|                   84|              73|                 85|                         32|                       40|                      37|                12|                  12|                 13|                      8|                   5|                0| 81| 81| 81| 76| 80| 80| 80| 76| 77| 77| 77| 74| 70| 70| 70| 74| 60| 62| 62| 62| 60| 59| 57| 57| 57| 59| 15|https://cdn.sofif...|https://cdn.sofif...|https://cdn.sofif...|                null|https://cdn.sofif...|2015| 146758|   1985-05-27|            18.0|                     9|      2013-08-05|                45|              null|                    null|                0.0|                  -1|           1.15E7|         90000.0|          76|              81|             68|               76|               42|            75|                          57|\n",
      "|https://sofifa.co...|Raúl García|Raúl García Escudero|     RM, CAM, ST|     79|       79|8000000.0|110000.0| 27|      184|       81|  Atlético de Madrid|Spain Primera Div...|           1|          SUB|            null|                     2018|           Spain|            SUB|         Right|        3|          2|                       2|Medium/Medium|Normal (170-185)|      Yes|       null|        Power Header|  72|      74|     80|       77|       65|    80|                78|                 70|                        84|                     84|               54|             78|         75|               67|                83|                81|                   69|                   74|              64|                82|              63|              85|           73|           79|            81|              75|                  82|                     69|                   83|              77|                 76|                         53|                       70|                      62|                13|                  15|                 13|                     15|                  14|                0| 77| 77| 77| 78| 79| 79| 79| 78| 79| 79| 79| 79| 79| 79| 79| 79| 73| 76| 76| 76| 73| 73| 72| 72| 72| 73| 18|https://cdn.sofif...|https://cdn.sofif...|https://cdn.sofif...|https://cdn.sofif...|https://cdn.sofif...|2015| 171579|   1986-07-11|           240.0|                     8|      2007-07-01|                45|            1362.0|                       7|                0.0|                  -1|        8000000.0|        110000.0|          72|              74|             80|               77|               65|            80|                          57|\n",
      "|https://sofifa.co...|C. Zambrano|Carlos Augusto Za...|              CB|     77|       80|4900000.0| 50000.0| 24|      185|       78| Eintracht Frankfurt|German 1. Bundesliga|           1|          RCB|            null|                     2015|            Peru|            RCB|         Right|        3|          2|                       2|Medium/Medium|   Normal (185+)|       No|       null|                null|  73|      50|     58|       66|       77|    80|                51|                 40|                        75|                     72|               36|             65|         35|               32|                70|                69|                   71|                   75|              65|                75|              60|              68|           81|           75|            79|              60|                  87|                     74|                   45|              44|                 43|                         76|                       79|                      77|                13|                  11|                 12|                     11|                  13|                0| 60| 60| 60| 61| 61| 61| 61| 61| 61| 61| 61| 64| 66| 66| 66| 64| 71| 72| 72| 72| 71| 74| 77| 77| 77| 74| 16|https://cdn.sofif...|https://cdn.sofif...|https://cdn.sofif...|https://cdn.sofif...|https://cdn.sofif...|2015| 187132|   1989-07-10|          1824.0|                     5|      2012-08-17|                59|          111108.0|                       5|                0.0|                  -1|        4900000.0|         50000.0|          73|              50|             58|               66|               77|            80|                          57|\n",
      "|https://sofifa.co...| P. Morales|Pedro Andrés Mora...|             CAM|     76|       76|5500000.0| 30000.0| 29|      180|       77|Vancouver Whiteca...|USA Major League ...|           1|          SUB|            null|                     2019|           Chile|           null|         Right|        3|          4|                       2|   Medium/Low|  Lean (170-185)|       No|       null|Power Free-Kick, ...|  69|      75|     77|       75|       30|    50|                81|                 70|                        55|                     74|               71|             74|         81|               74|                79|                78|                   69|                   69|              79|                72|              70|              81|           67|           66|            41|              82|                  48|                     22|                   76|              76|                 73|                         25|                       33|                      22|                 6|                  10|                 14|                      6|                   6|                0| 71| 71| 71| 76| 74| 74| 74| 76| 76| 76| 76| 75| 69| 69| 69| 75| 55| 55| 55| 55| 55| 48| 41| 41| 41| 48| 11|https://cdn.sofif...|https://cdn.sofif...|https://cdn.sofif...|                null|https://cdn.sofif...|2015| 191725|   1985-05-25|        101112.0|                    77|      2014-03-05|                55|              null|                    null|                0.0|                  -1|        5500000.0|         30000.0|          69|              75|             77|               75|               30|            50|                          57|\n",
      "+--------------------+-----------+--------------------+----------------+-------+---------+---------+--------+---+---------+---------+--------------------+--------------------+------------+-------------+----------------+-------------------------+----------------+---------------+--------------+---------+-----------+------------------------+-------------+----------------+---------+-----------+--------------------+----+--------+-------+---------+---------+------+------------------+-------------------+--------------------------+-----------------------+-----------------+---------------+-----------+-----------------+------------------+------------------+---------------------+---------------------+----------------+------------------+----------------+----------------+-------------+-------------+--------------+----------------+--------------------+-----------------------+---------------------+----------------+-------------------+---------------------------+-------------------------+------------------------+------------------+--------------------+-------------------+-----------------------+--------------------+-----------------+---+---+---+---+---+---+---+---+---+---+---+---+---+---+---+---+---+---+---+---+---+---+---+---+---+---+---+--------------------+--------------------+--------------------+--------------------+--------------------+----+-------+-------------+----------------+----------------------+----------------+------------------+------------------+------------------------+-------------------+--------------------+-----------------+----------------+------------+----------------+---------------+-----------------+-----------------+--------------+----------------------------+\n",
      "only showing top 5 rows\n",
      "\n"
     ]
    },
    {
     "name": "stderr",
     "output_type": "stream",
     "text": [
      "\r",
      "                                                                                \r",
      "Traceback (most recent call last):\n",
      "  File \"/opt/homebrew/Cellar/apache-spark/3.2.0/libexec/python/lib/pyspark.zip/pyspark/daemon.py\", line 186, in manager\n",
      "  File \"/opt/homebrew/Cellar/apache-spark/3.2.0/libexec/python/lib/pyspark.zip/pyspark/daemon.py\", line 74, in worker\n",
      "  File \"/opt/homebrew/Cellar/apache-spark/3.2.0/libexec/python/lib/pyspark.zip/pyspark/worker.py\", line 663, in main\n",
      "    if read_int(infile) == SpecialLengths.END_OF_STREAM:\n",
      "  File \"/opt/homebrew/Cellar/apache-spark/3.2.0/libexec/python/lib/pyspark.zip/pyspark/serializers.py\", line 562, in read_int\n",
      "    length = stream.read(4)\n",
      "ConnectionResetError: [Errno 54] Connection reset by peer\n"
     ]
    }
   ],
   "source": [
    "imputed_filled_df.show(5)"
   ]
  },
  {
   "cell_type": "code",
   "execution_count": 23,
   "id": "5bfce31b",
   "metadata": {},
   "outputs": [
    {
     "name": "stderr",
     "output_type": "stream",
     "text": [
      "[Stage 79:===================================================>      (8 + 1) / 9]\r"
     ]
    },
    {
     "name": "stdout",
     "output_type": "stream",
     "text": [
      "+----------+----------+---------+----------------+-------+---------+---------+--------+---+---------+---------+---------+-----------+------------+-------------+----------------+-------------------------+----------------+---------------+--------------+---------+-----------+------------------------+---------+---------+---------+-----------+-------------+----+--------+-------+---------+---------+------+------------------+-------------------+--------------------------+-----------------------+-----------------+---------------+-----------+-----------------+------------------+------------------+---------------------+---------------------+----------------+------------------+----------------+----------------+-------------+-------------+--------------+----------------+--------------------+-----------------------+---------------------+----------------+-------------------+---------------------------+-------------------------+------------------------+------------------+--------------------+-------------------+-----------------------+--------------------+-----------------+---+---+---+---+---+---+---+---+---+---+---+---+---+---+---+---+---+---+---+---+---+---+---+---+---+---+---+---------------+-------------+-------------+---------------+---------------+----+-------+----------------+----------------------+------------------+------------------+------------------------+-------------------+--------------------+-----------------+----------------+------------+----------------+---------------+-----------------+-----------------+--------------+----------------------------+\n",
      "|player_url|short_name|long_name|player_positions|overall|potential|value_eur|wage_eur|age|height_cm|weight_kg|club_name|league_name|league_level|club_position|club_loaned_from|club_contract_valid_until|nationality_name|nation_position|preferred_foot|weak_foot|skill_moves|international_reputation|work_rate|body_type|real_face|player_tags|player_traits|pace|shooting|passing|dribbling|defending|physic|attacking_crossing|attacking_finishing|attacking_heading_accuracy|attacking_short_passing|attacking_volleys|skill_dribbling|skill_curve|skill_fk_accuracy|skill_long_passing|skill_ball_control|movement_acceleration|movement_sprint_speed|movement_agility|movement_reactions|movement_balance|power_shot_power|power_jumping|power_stamina|power_strength|power_long_shots|mentality_aggression|mentality_interceptions|mentality_positioning|mentality_vision|mentality_penalties|defending_marking_awareness|defending_standing_tackle|defending_sliding_tackle|goalkeeping_diving|goalkeeping_handling|goalkeeping_kicking|goalkeeping_positioning|goalkeeping_reflexes|goalkeeping_speed| ls| st| rs| lw| lf| cf| rf| rw|lam|cam|ram| lm|lcm| cm|rcm| rm|lwb|ldm|cdm|rdm|rwb| lb|lcb| cb|rcb| rb| gk|player_face_url|club_logo_url|club_flag_url|nation_logo_url|nation_flag_url|year|fifa_id|club_team_id_str|club_jersey_number_str|nationality_id_str|nation_team_id_str|nation_jersey_number_str|release_clause_euro|mentality_composure_|value_eur_imputed|wage_eur_imputed|pace_imputed|shooting_imputed|passing_imputed|dribbling_imputed|defending_imputed|physic_imputed|mentality_composure__imputed|\n",
      "+----------+----------+---------+----------------+-------+---------+---------+--------+---+---------+---------+---------+-----------+------------+-------------+----------------+-------------------------+----------------+---------------+--------------+---------+-----------+------------------------+---------+---------+---------+-----------+-------------+----+--------+-------+---------+---------+------+------------------+-------------------+--------------------------+-----------------------+-----------------+---------------+-----------+-----------------+------------------+------------------+---------------------+---------------------+----------------+------------------+----------------+----------------+-------------+-------------+--------------+----------------+--------------------+-----------------------+---------------------+----------------+-------------------+---------------------------+-------------------------+------------------------+------------------+--------------------+-------------------+-----------------------+--------------------+-----------------+---+---+---+---+---+---+---+---+---+---+---+---+---+---+---+---+---+---+---+---+---+---+---+---+---+---+---+---------------+-------------+-------------+---------------+---------------+----+-------+----------------+----------------------+------------------+------------------+------------------------+-------------------+--------------------+-----------------+----------------+------------+----------------+---------------+-----------------+-----------------+--------------+----------------------------+\n",
      "|         0|         0|        0|               0|      0|        0|        0|       0|  0|        0|        0|     1630|       1630|        2015|         1630|          133774|                     1630|               0|         133635|             0|        0|          0|                       0|        0|        0|        0|     130765|        78771|   0|       0|      0|        0|        0|     0|                 0|                  0|                         0|                      0|                0|              0|          0|                0|                 0|                 0|                    0|                    0|               0|                 0|               0|               0|            0|            0|             0|               0|                   0|                      0|                    0|               0|                  0|                          0|                        0|                       0|                 0|                   0|                  0|                      0|                   0|                0|  0|  0|  0|  0|  0|  0|  0|  0|  0|  0|  0|  0|  0|  0|  0|  0|  0|  0|  0|  0|  0|  0|  0|  0|  0|  0|  0|              0|         1630|         1630|         133635|              0|   0|      0|            1630|                  1630|                 0|            133635|                  133635|                  0|                   0|                0|               0|           0|               0|              0|                0|                0|             0|                           0|\n",
      "+----------+----------+---------+----------------+-------+---------+---------+--------+---+---------+---------+---------+-----------+------------+-------------+----------------+-------------------------+----------------+---------------+--------------+---------+-----------+------------------------+---------+---------+---------+-----------+-------------+----+--------+-------+---------+---------+------+------------------+-------------------+--------------------------+-----------------------+-----------------+---------------+-----------+-----------------+------------------+------------------+---------------------+---------------------+----------------+------------------+----------------+----------------+-------------+-------------+--------------+----------------+--------------------+-----------------------+---------------------+----------------+-------------------+---------------------------+-------------------------+------------------------+------------------+--------------------+-------------------+-----------------------+--------------------+-----------------+---+---+---+---+---+---+---+---+---+---+---+---+---+---+---+---+---+---+---+---+---+---+---+---+---+---+---+---------------+-------------+-------------+---------------+---------------+----+-------+----------------+----------------------+------------------+------------------+------------------------+-------------------+--------------------+-----------------+----------------+------------+----------------+---------------+-----------------+-----------------+--------------+----------------------------+\n",
      "\n"
     ]
    },
    {
     "name": "stderr",
     "output_type": "stream",
     "text": [
      "\r",
      "                                                                                \r"
     ]
    }
   ],
   "source": [
    "drop_types_df = imputed_filled_df.drop(col(\"date_of_birth\")).drop(col(\"club_joined_date\"))\n",
    "\n",
    "drop_types_df.select([count(when(isnan(c) | col(c).isNull(), c)).alias(c) for c in drop_types_df.columns]).show()"
   ]
  },
  {
   "cell_type": "code",
   "execution_count": 24,
   "id": "568094b5",
   "metadata": {},
   "outputs": [],
   "source": [
    "players_df_final = imputed_filled_df.drop('value_eur','wage_eur', 'pace', 'shooting', 'passing', \\\n",
    "                                 'dribbling', 'defending', 'physic', 'mentality_composure_')"
   ]
  },
  {
   "cell_type": "markdown",
   "id": "a14e5fe7",
   "metadata": {},
   "source": [
    "Imputation with mode is not being done for categorical missing values for national team/club related attributes because it doesn't make logical sense. "
   ]
  },
  {
   "cell_type": "markdown",
   "id": "e6c0ddfb",
   "metadata": {},
   "source": [
    "### Writing to postgres"
   ]
  },
  {
   "cell_type": "code",
   "execution_count": 25,
   "id": "7b05592c",
   "metadata": {},
   "outputs": [],
   "source": [
    "from pyspark import SparkContext, SparkConf, SQLContext\n",
    "import os\n",
    "db_properties={}\n",
    "db_properties['username']=\"postgres\"\n",
    "db_properties['password']=\"postgres\"\n",
    "# make sure to use the correct port number. These \n",
    "db_properties['url']= \"jdbc:postgresql://localhost:5432/postgres\"\n",
    "db_properties['driver']=\"org.postgresql.Driver\""
   ]
  },
  {
   "cell_type": "code",
   "execution_count": 26,
   "id": "da2ef46c",
   "metadata": {},
   "outputs": [
    {
     "name": "stderr",
     "output_type": "stream",
     "text": [
      "                                                                                \r"
     ]
    }
   ],
   "source": [
    "players_df_final.write.format(\"jdbc\")\\\n",
    ".mode(\"overwrite\")\\\n",
    ".option(\"url\", \"jdbc:postgresql://localhost:5432/postgres\")\\\n",
    ".option(\"dbtable\", \"FIFA.PLAYERS\")\\\n",
    ".option(\"user\", \"postgres\")\\\n",
    ".option(\"password\", \"postgres\")\\\n",
    ".option(\"Driver\", \"org.postgresql.Driver\")\\\n",
    ".save()"
   ]
  },
  {
   "cell_type": "code",
   "execution_count": null,
   "id": "63051654",
   "metadata": {},
   "outputs": [],
   "source": []
  }
 ],
 "metadata": {
  "kernelspec": {
   "display_name": "Python 3 (ipykernel)",
   "language": "python",
   "name": "python3"
  },
  "language_info": {
   "codemirror_mode": {
    "name": "ipython",
    "version": 3
   },
   "file_extension": ".py",
   "mimetype": "text/x-python",
   "name": "python",
   "nbconvert_exporter": "python",
   "pygments_lexer": "ipython3",
   "version": "3.9.7"
  }
 },
 "nbformat": 4,
 "nbformat_minor": 5
}
