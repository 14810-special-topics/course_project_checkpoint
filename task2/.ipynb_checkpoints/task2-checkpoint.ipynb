{
 "cells": [
  {
   "cell_type": "markdown",
   "id": "e77bef80",
   "metadata": {},
   "source": [
    "### Importing libraries"
   ]
  },
  {
   "cell_type": "code",
   "execution_count": 1,
   "id": "5ebf134b",
   "metadata": {},
   "outputs": [],
   "source": [
    "import pyspark\n",
    "from pyspark.sql import SparkSession, SQLContext, DataFrame\n",
    "from pyspark.ml.feature import Imputer\n",
    "from pyspark.sql.functions import *\n",
    "from pyspark import SparkContext, SparkConf, SQLContext\n",
    "from pyspark.sql.types import DoubleType\n",
    "import os"
   ]
  },
  {
   "cell_type": "markdown",
   "id": "f3e999d3",
   "metadata": {},
   "source": [
    "### Display spark dataframes such that they can be scrolled horizontally\n",
    "reference: https://stackoverflow.com/questions/43427138/pyspark-show-dataframe-as-table-with-horizontal-scroll-in-ipython-notebook\n"
   ]
  },
  {
   "cell_type": "code",
   "execution_count": 2,
   "id": "d3a3aae0",
   "metadata": {},
   "outputs": [
    {
     "data": {
      "text/html": [
       "<style>pre { white-space: pre !important; }</style>"
      ],
      "text/plain": [
       "<IPython.core.display.HTML object>"
      ]
     },
     "metadata": {},
     "output_type": "display_data"
    }
   ],
   "source": [
    "from IPython.core.display import HTML\n",
    "display(HTML(\"<style>pre { white-space: pre !important; }</style>\"))"
   ]
  },
  {
   "cell_type": "markdown",
   "id": "1376888e",
   "metadata": {},
   "source": [
    "### Using code from class notes to create spark context"
   ]
  },
  {
   "cell_type": "code",
   "execution_count": 3,
   "id": "b254b0c7",
   "metadata": {},
   "outputs": [
    {
     "name": "stderr",
     "output_type": "stream",
     "text": [
      "/opt/homebrew/Cellar/apache-spark/3.2.0/libexec/python/pyspark/sql/context.py:77: FutureWarning: Deprecated in 3.0.0. Use SparkSession.builder.getOrCreate() instead.\n",
      "  warnings.warn(\n"
     ]
    }
   ],
   "source": [
    "master = \"local\"\n",
    "appName = \"Course Project\"\n",
    "conf = pyspark.SparkConf()\\\n",
    "        .set('spark.driver.host','127.0.0.1')\\\n",
    "        .setAppName(appName).setMaster(master)\\\n",
    "        .set(\"spark.driver.extraClassPath\",\"C:/Program Files/DbVisualizer/jdbc/postgresql/postgresql.jar\")\n",
    "\n",
    "# Create Spark Context with the new configurations rather than rely on the default one\n",
    "sc = SparkContext.getOrCreate(conf=conf)\n",
    "spark = SparkSession.builder \\\n",
    "    .appName(appName) \\\n",
    "        .getOrCreate()\n",
    "\n",
    "spark = SparkSession.builder.getOrCreate()\n",
    "\n",
    "sqlContext = SQLContext(sc)"
   ]
  },
  {
   "cell_type": "markdown",
   "id": "1e31f22b",
   "metadata": {},
   "source": [
    "### Reading the data from database"
   ]
  },
  {
   "cell_type": "code",
   "execution_count": 4,
   "id": "a8b56f35",
   "metadata": {},
   "outputs": [
    {
     "name": "stdout",
     "output_type": "stream",
     "text": [
      "root\n",
      " |-- player_url: string (nullable = true)\n",
      " |-- short_name: string (nullable = true)\n",
      " |-- long_name: string (nullable = true)\n",
      " |-- player_positions: string (nullable = true)\n",
      " |-- overall: integer (nullable = true)\n",
      " |-- potential: integer (nullable = true)\n",
      " |-- age: integer (nullable = true)\n",
      " |-- height_cm: integer (nullable = true)\n",
      " |-- weight_kg: integer (nullable = true)\n",
      " |-- club_name: string (nullable = true)\n",
      " |-- league_name: string (nullable = true)\n",
      " |-- league_level: integer (nullable = true)\n",
      " |-- club_position: string (nullable = true)\n",
      " |-- club_loaned_from: string (nullable = true)\n",
      " |-- club_contract_valid_until: integer (nullable = true)\n",
      " |-- nationality_name: string (nullable = true)\n",
      " |-- nation_position: string (nullable = true)\n",
      " |-- preferred_foot: string (nullable = true)\n",
      " |-- weak_foot: integer (nullable = true)\n",
      " |-- skill_moves: integer (nullable = true)\n",
      " |-- international_reputation: integer (nullable = true)\n",
      " |-- work_rate: string (nullable = true)\n",
      " |-- body_type: string (nullable = true)\n",
      " |-- real_face: string (nullable = true)\n",
      " |-- player_tags: string (nullable = true)\n",
      " |-- player_traits: string (nullable = true)\n",
      " |-- attacking_crossing: integer (nullable = true)\n",
      " |-- attacking_finishing: integer (nullable = true)\n",
      " |-- attacking_heading_accuracy: integer (nullable = true)\n",
      " |-- attacking_short_passing: integer (nullable = true)\n",
      " |-- attacking_volleys: integer (nullable = true)\n",
      " |-- skill_dribbling: integer (nullable = true)\n",
      " |-- skill_curve: integer (nullable = true)\n",
      " |-- skill_fk_accuracy: integer (nullable = true)\n",
      " |-- skill_long_passing: integer (nullable = true)\n",
      " |-- skill_ball_control: integer (nullable = true)\n",
      " |-- movement_acceleration: integer (nullable = true)\n",
      " |-- movement_sprint_speed: integer (nullable = true)\n",
      " |-- movement_agility: integer (nullable = true)\n",
      " |-- movement_reactions: integer (nullable = true)\n",
      " |-- movement_balance: integer (nullable = true)\n",
      " |-- power_shot_power: integer (nullable = true)\n",
      " |-- power_jumping: integer (nullable = true)\n",
      " |-- power_stamina: integer (nullable = true)\n",
      " |-- power_strength: integer (nullable = true)\n",
      " |-- power_long_shots: integer (nullable = true)\n",
      " |-- mentality_aggression: integer (nullable = true)\n",
      " |-- mentality_interceptions: integer (nullable = true)\n",
      " |-- mentality_positioning: integer (nullable = true)\n",
      " |-- mentality_vision: integer (nullable = true)\n",
      " |-- mentality_penalties: integer (nullable = true)\n",
      " |-- defending_marking_awareness: integer (nullable = true)\n",
      " |-- defending_standing_tackle: integer (nullable = true)\n",
      " |-- defending_sliding_tackle: integer (nullable = true)\n",
      " |-- goalkeeping_diving: integer (nullable = true)\n",
      " |-- goalkeeping_handling: integer (nullable = true)\n",
      " |-- goalkeeping_kicking: integer (nullable = true)\n",
      " |-- goalkeeping_positioning: integer (nullable = true)\n",
      " |-- goalkeeping_reflexes: integer (nullable = true)\n",
      " |-- goalkeeping_speed: integer (nullable = true)\n",
      " |-- ls: integer (nullable = true)\n",
      " |-- st: integer (nullable = true)\n",
      " |-- rs: integer (nullable = true)\n",
      " |-- lw: integer (nullable = true)\n",
      " |-- lf: integer (nullable = true)\n",
      " |-- cf: integer (nullable = true)\n",
      " |-- rf: integer (nullable = true)\n",
      " |-- rw: integer (nullable = true)\n",
      " |-- lam: integer (nullable = true)\n",
      " |-- cam: integer (nullable = true)\n",
      " |-- ram: integer (nullable = true)\n",
      " |-- lm: integer (nullable = true)\n",
      " |-- lcm: integer (nullable = true)\n",
      " |-- cm: integer (nullable = true)\n",
      " |-- rcm: integer (nullable = true)\n",
      " |-- rm: integer (nullable = true)\n",
      " |-- lwb: integer (nullable = true)\n",
      " |-- ldm: integer (nullable = true)\n",
      " |-- cdm: integer (nullable = true)\n",
      " |-- rdm: integer (nullable = true)\n",
      " |-- rwb: integer (nullable = true)\n",
      " |-- lb: integer (nullable = true)\n",
      " |-- lcb: integer (nullable = true)\n",
      " |-- cb: integer (nullable = true)\n",
      " |-- rcb: integer (nullable = true)\n",
      " |-- rb: integer (nullable = true)\n",
      " |-- gk: integer (nullable = true)\n",
      " |-- player_face_url: string (nullable = true)\n",
      " |-- club_logo_url: string (nullable = true)\n",
      " |-- club_flag_url: string (nullable = true)\n",
      " |-- nation_logo_url: string (nullable = true)\n",
      " |-- nation_flag_url: string (nullable = true)\n",
      " |-- year: integer (nullable = true)\n",
      " |-- fifa_id: string (nullable = true)\n",
      " |-- date_of_birth: date (nullable = true)\n",
      " |-- club_team_id_str: string (nullable = true)\n",
      " |-- club_jersey_number_str: string (nullable = true)\n",
      " |-- club_joined_date: date (nullable = true)\n",
      " |-- nationality_id_str: string (nullable = true)\n",
      " |-- nation_team_id_str: string (nullable = true)\n",
      " |-- nation_jersey_number_str: string (nullable = true)\n",
      " |-- release_clause_euro: double (nullable = true)\n",
      " |-- value_eur_imputed: double (nullable = true)\n",
      " |-- wage_eur_imputed: double (nullable = true)\n",
      " |-- pace_imputed: integer (nullable = true)\n",
      " |-- shooting_imputed: integer (nullable = true)\n",
      " |-- passing_imputed: integer (nullable = true)\n",
      " |-- dribbling_imputed: integer (nullable = true)\n",
      " |-- defending_imputed: integer (nullable = true)\n",
      " |-- physic_imputed: integer (nullable = true)\n",
      " |-- mentality_composure__imputed: integer (nullable = true)\n",
      "\n"
     ]
    }
   ],
   "source": [
    "players_df_after_db_read = sqlContext.read.format(\"jdbc\")\\\n",
    "    .option(\"url\", \"jdbc:postgresql://localhost:5432/postgres\")\\\n",
    "    .option(\"dbtable\", \"FIFA.PLAYERS\")\\\n",
    "    .option(\"user\", \"postgres\")\\\n",
    "    .option(\"password\", \"postgres\")\\\n",
    "    .option(\"Driver\", \"org.postgresql.Driver\")\\\n",
    "    .load()\n",
    "\n",
    "players_df_after_db_read.printSchema()"
   ]
  },
  {
   "cell_type": "markdown",
   "id": "dc07b7a6",
   "metadata": {},
   "source": [
    "Deleting sum so that spark sql function isn't used and instead default sum function is used"
   ]
  },
  {
   "cell_type": "code",
   "execution_count": 5,
   "id": "f828ef4a",
   "metadata": {},
   "outputs": [],
   "source": [
    "del sum"
   ]
  },
  {
   "cell_type": "markdown",
   "id": "1c0d0a42",
   "metadata": {},
   "source": [
    "### Defining columns which are skill attributes and solving questions"
   ]
  },
  {
   "cell_type": "code",
   "execution_count": 6,
   "id": "76e508f0",
   "metadata": {},
   "outputs": [],
   "source": [
    "skill_columns = [\"pace_imputed\", \"shooting_imputed\",\"passing_imputed\", \"dribbling_imputed\", \\\n",
    "                \"defending_imputed\", \"physic_imputed\", \"attacking_crossing\", \"attacking_finishing\", \\\n",
    "                \"attacking_heading_accuracy\", \"attacking_short_passing\", \"attacking_volleys\", \"skill_dribbling\", \\\n",
    "                \"skill_curve\", \"skill_fk_accuracy\", \"skill_long_passing\", \"skill_ball_control\", \"movement_acceleration\", \\\n",
    "                \"movement_sprint_speed\", \"movement_agility\", \"movement_reactions\", \"movement_balance\", \\\n",
    "                \"power_shot_power\", \"power_jumping\", \"power_stamina\", \"power_strength\", \"power_long_shots\", \\\n",
    "                \"mentality_aggression\", \"mentality_interceptions\", \"mentality_positioning\", \"mentality_vision\", \\\n",
    "                \"mentality_penalties\", \"mentality_composure__imputed\", \"defending_marking_awareness\", \"defending_standing_tackle\", \\\n",
    "                \"defending_sliding_tackle\", \"goalkeeping_diving\", \"goalkeeping_handling\", \"goalkeeping_kicking\", \\\n",
    "                \"goalkeeping_positioning\", \"goalkeeping_reflexes\", \"goalkeeping_speed\"]"
   ]
  },
  {
   "cell_type": "code",
   "execution_count": 7,
   "id": "f338d829",
   "metadata": {},
   "outputs": [],
   "source": [
    "def q1(players_df_after_db_read, x):\n",
    "    # compute average skill for each row as a new column \n",
    "    players_df_avg_skill = players_df_after_db_read.withColumn(\"average_skill\", sum(players_df_after_db_read[col] for col in skill_columns)/len(skill_columns))\n",
    "    \n",
    "    # create a dataframe with only 2015 dataset\n",
    "    players_2015_df = players_df_avg_skill.filter(players_df_avg_skill.year == 2015).select(col('fifa_id'), col('average_skill'))\n",
    "    \n",
    "    # rename average_skill column in 2015 dataset \n",
    "    players_2015_df_avg_skill = players_2015_df.withColumnRenamed('average_skill', 'average_skill_2015') \\\n",
    "                                                .withColumnRenamed('fifa_id', 'fifa_id_2015')\n",
    "    \n",
    "    # create a dataframe with 2022 data\n",
    "    players_2022_df_avg_skill = players_df_avg_skill.filter(players_df_avg_skill.year == 2022)\n",
    "    \n",
    "    # inner join on the name\n",
    "    players_avg_skills = players_2022_df_avg_skill.join(players_2015_df_avg_skill, \\\n",
    "                        players_2022_df_avg_skill.fifa_id ==  players_2015_df_avg_skill.fifa_id_2015, \"inner\")\n",
    "    \n",
    "    # computing change in average skill from 2022 to 2015\n",
    "    players_avg_skill_diff = players_avg_skills.withColumn(\"avg_skill_diff\", players_avg_skills['average_skill'] - players_avg_skills['average_skill_2015'])\n",
    "    \n",
    "    # fetching players who showed most improvement in average skill from 2015 to 2022 \n",
    "    players_most_improvement = players_avg_skill_diff.sort(col('avg_skill_diff').desc()).limit(x).select(col('fifa_id'), col('long_name'), col('avg_skill_diff'))\n",
    "    \n",
    "    players_most_improvement.show()"
   ]
  },
  {
   "cell_type": "code",
   "execution_count": 8,
   "id": "8b70b9a1",
   "metadata": {},
   "outputs": [],
   "source": [
    "def q2(players_df_after_db_read, y):\n",
    "    # filter out the 2021 dataset rows having contract expiring in 2021\n",
    "    players_2021_contract = players_df_after_db_read.filter((players_df_after_db_read.year == 2021) & (players_df_after_db_read.club_contract_valid_until == 2021))\n",
    "    \n",
    "    # grouping by club name and sorting by descending order of count\n",
    "    players_2021_contract.groupby('club_name').count().sort(col('count').desc()).limit(y).show()"
   ]
  },
  {
   "cell_type": "code",
   "execution_count": 9,
   "id": "e399c468",
   "metadata": {},
   "outputs": [],
   "source": [
    "def q3(players_df_after_db_read, z):\n",
    "    # print and return f number entered is less than 5\n",
    "    if z < 5:\n",
    "        print(\"Please enter a number >=5\")\n",
    "        return\n",
    "    # create dataframe with 2021 data and rows not have club name as null\n",
    "    players_2021_df = players_df_after_db_read.filter((players_df_after_db_read.year == 2021) & (players_df_after_db_read.club_name != 'null'))\n",
    "    \n",
    "    # grouping by club name and sorting by descending order of count\n",
    "    largest_clubs_df = players_2021_df.groupby('club_name').count().sort(col('count').desc()).limit(z)\n",
    "    \n",
    "    # printing message if all clubs have same number of players \n",
    "    if len(largest_clubs_df.select('count').distinct().collect()) == 1:\n",
    "        print(\"All top \" + str(z) + \" have the same number of players\")\n",
    "        \n",
    "    largest_clubs_df.show(z)"
   ]
  },
  {
   "cell_type": "code",
   "execution_count": 10,
   "id": "4463bb11",
   "metadata": {},
   "outputs": [],
   "source": [
    "def q4(players_df_after_db_read):\n",
    "    # extract playes who have nation position \n",
    "    nation_players_df = players_df_after_db_read.filter(players_df_after_db_read.nation_position != 'null')\n",
    "    \n",
    "    # grouping by nation position and sorting by descending order of count\n",
    "    most_frequent_nation_position = nation_players_df.groupby('nation_position').count().sort(col('count').desc()).limit(5).collect()\n",
    "    \n",
    "    # extract players who have club position\n",
    "    club_players_df = players_df_after_db_read.filter(players_df_after_db_read.club_position != 'null')\n",
    "    \n",
    "    # grouping by club position and sorting by descending order of count\n",
    "    most_frequent_club_position = club_players_df.groupby('club_position').count().sort(col('count').desc()).limit(5).collect()\n",
    "    \n",
    "    # print results\n",
    "    print(\"Across the whole dataset, the most frequent nation_position is \" + str(most_frequent_nation_position[0][0]) + \\\n",
    "          \" with a frequency of \" + str(most_frequent_nation_position[0][1]) + \" and the most frequent club_position is \" +\n",
    "          str(most_frequent_club_position[0][0]) + \" with a frequency of \" + str(most_frequent_club_position[0][1]))"
   ]
  },
  {
   "cell_type": "code",
   "execution_count": 11,
   "id": "9ff7d8cc",
   "metadata": {},
   "outputs": [],
   "source": [
    "def q5(players_df_after_db_read):\n",
    "    # grouping by nationality and sorting by descending order of count\n",
    "    most_popular_nationality = players_df_after_db_read.groupby('nationality_name').count().sort(col('count').desc()).limit(5).collect()\n",
    "    \n",
    "    # extracting and printing most popular\n",
    "    print(\"Across the whole dataset, the most popular nationality is \" + str(most_popular_nationality[0][0]) + \\\n",
    "          \" with a frequency of \" + str(most_popular_nationality[0][1]))"
   ]
  },
  {
   "cell_type": "markdown",
   "id": "0fdbb287",
   "metadata": {},
   "source": [
    "### Testing functions"
   ]
  },
  {
   "cell_type": "code",
   "execution_count": 13,
   "id": "a5a48e19",
   "metadata": {},
   "outputs": [
    {
     "name": "stderr",
     "output_type": "stream",
     "text": [
      "22/03/25 19:09:14 WARN package: Truncated the string representation of a plan since it was too large. This behavior can be adjusted by setting 'spark.sql.debug.maxToStringFields'.\n",
      "                                                                                \r"
     ]
    },
    {
     "name": "stdout",
     "output_type": "stream",
     "text": [
      "+-------+--------------------+------------------+\n",
      "|fifa_id|           long_name|    avg_skill_diff|\n",
      "+-------+--------------------+------------------+\n",
      "| 225375|       Konrad Laimer|24.585365853658537|\n",
      "| 223848|Sergej Milinković...| 24.12195121951219|\n",
      "| 221370|Mohammed Ibrahim ...| 22.12195121951219|\n",
      "| 221479|Dominic Calvert-L...|              21.0|\n",
      "| 212242|      Robert Andrich| 19.87804878048781|\n",
      "| 221697|       Ollie Watkins|19.634146341463413|\n",
      "| 210537|      Renato Steffen| 19.58536585365853|\n",
      "+-------+--------------------+------------------+\n",
      "\n"
     ]
    }
   ],
   "source": [
    "q1(players_df_after_db_read, 7)"
   ]
  },
  {
   "cell_type": "code",
   "execution_count": 14,
   "id": "295477b6",
   "metadata": {},
   "outputs": [
    {
     "name": "stdout",
     "output_type": "stream",
     "text": [
      "+--------------+-----+\n",
      "|     club_name|count|\n",
      "+--------------+-----+\n",
      "|   Yokohama FC|   30|\n",
      "|Kashiwa Reysol|   29|\n",
      "|  Oita Trinita|   28|\n",
      "|  Cerezo Osaka|   28|\n",
      "|Vegalta Sendai|   26|\n",
      "+--------------+-----+\n",
      "\n"
     ]
    }
   ],
   "source": [
    "q2(players_df_after_db_read, 5)"
   ]
  },
  {
   "cell_type": "code",
   "execution_count": 15,
   "id": "eaf2d3cb",
   "metadata": {},
   "outputs": [
    {
     "name": "stdout",
     "output_type": "stream",
     "text": [
      "Please enter a number >=5\n"
     ]
    }
   ],
   "source": [
    "q3(players_df_after_db_read, 3)"
   ]
  },
  {
   "cell_type": "code",
   "execution_count": 16,
   "id": "42d847b9",
   "metadata": {},
   "outputs": [
    {
     "name": "stdout",
     "output_type": "stream",
     "text": [
      "All top 6 have the same number of players\n",
      "+------------------+-----+\n",
      "|         club_name|count|\n",
      "+------------------+-----+\n",
      "|           Bologna|   33|\n",
      "|  SV Werder Bremen|   33|\n",
      "|    Udinese Calcio|   33|\n",
      "|           Arsenal|   33|\n",
      "|             Lazio|   33|\n",
      "|Real Valladolid CF|   33|\n",
      "+------------------+-----+\n",
      "\n"
     ]
    }
   ],
   "source": [
    "q3(players_df_after_db_read, 6)"
   ]
  },
  {
   "cell_type": "code",
   "execution_count": 17,
   "id": "2aafcd36",
   "metadata": {},
   "outputs": [
    {
     "name": "stdout",
     "output_type": "stream",
     "text": [
      "+--------------------+-----+\n",
      "|           club_name|count|\n",
      "+--------------------+-----+\n",
      "|    RC Celta de Vigo|   33|\n",
      "|       Hellas Verona|   33|\n",
      "|  Real Valladolid CF|   33|\n",
      "|   Manchester United|   33|\n",
      "|             Arsenal|   33|\n",
      "|             Bologna|   33|\n",
      "|      Udinese Calcio|   33|\n",
      "|               Lazio|   33|\n",
      "|    Newcastle United|   33|\n",
      "|        Leeds United|   33|\n",
      "|    SV Werder Bremen|   33|\n",
      "|      Crystal Palace|   33|\n",
      "|         Aston Villa|   33|\n",
      "|          Granada CF|   33|\n",
      "|     Manchester City|   33|\n",
      "|    AS Saint-Étienne|   33|\n",
      "|     1. FSV Mainz 05|   33|\n",
      "|U.S. Sassuolo Calcio|   33|\n",
      "|               Genoa|   33|\n",
      "|    Stade Rennais FC|   33|\n",
      "|              Fulham|   33|\n",
      "|          Fiorentina|   33|\n",
      "|        FC Barcelona|   33|\n",
      "| Racing Club de Lens|   33|\n",
      "|               Inter|   33|\n",
      "|       VfB Stuttgart|   33|\n",
      "|       Real Sociedad|   33|\n",
      "| Real Betis Balompié|   33|\n",
      "|         Southampton|   33|\n",
      "|      Leicester City|   33|\n",
      "|    Deportivo Alavés|   33|\n",
      "|         Torino F.C.|   33|\n",
      "|         Valencia CF|   33|\n",
      "|           FC Nantes|   33|\n",
      "|              Napoli|   33|\n",
      "|            Cádiz CF|   33|\n",
      "|             Crotone|   33|\n",
      "|Borussia Möncheng...|   33|\n",
      "|          Sevilla FC|   33|\n",
      "|   Tottenham Hotspur|   33|\n",
      "|Wolverhampton Wan...|   33|\n",
      "|Brighton & Hove A...|   33|\n",
      "|           Liverpool|   33|\n",
      "|  Atlético de Madrid|   33|\n",
      "|           Getafe CF|   33|\n",
      "|          Angers SCO|   33|\n",
      "|          LOSC Lille|   33|\n",
      "|Olympique de Mars...|   33|\n",
      "|           AS Monaco|   33|\n",
      "|             Chelsea|   33|\n",
      "|            Atalanta|   33|\n",
      "|             Everton|   33|\n",
      "|     West Ham United|   33|\n",
      "|           Benevento|   33|\n",
      "|Levante Unión Dep...|   33|\n",
      "|         FC Augsburg|   32|\n",
      "|      Real Madrid CF|   32|\n",
      "|          Hertha BSC|   32|\n",
      "|            Cagliari|   32|\n",
      "|       Villarreal CF|   32|\n",
      "+--------------------+-----+\n",
      "\n"
     ]
    }
   ],
   "source": [
    "q3(players_df_after_db_read, 60)"
   ]
  },
  {
   "cell_type": "code",
   "execution_count": 18,
   "id": "c25f9a60",
   "metadata": {},
   "outputs": [
    {
     "name": "stdout",
     "output_type": "stream",
     "text": [
      "Across the whole dataset, the most frequent nation_position is SUB with a frequency of 4387 and the most frequent club_position is SUB with a frequency of 60769\n"
     ]
    }
   ],
   "source": [
    "q4(players_df_after_db_read)"
   ]
  },
  {
   "cell_type": "code",
   "execution_count": 19,
   "id": "19ebd75c",
   "metadata": {},
   "outputs": [
    {
     "name": "stdout",
     "output_type": "stream",
     "text": [
      "Across the whole dataset, the most popular nationality is England with a frequency of 13105\n"
     ]
    }
   ],
   "source": [
    "q5(players_df_after_db_read)"
   ]
  },
  {
   "cell_type": "code",
   "execution_count": null,
   "id": "2848beee",
   "metadata": {},
   "outputs": [],
   "source": []
  }
 ],
 "metadata": {
  "kernelspec": {
   "display_name": "Python 3 (ipykernel)",
   "language": "python",
   "name": "python3"
  },
  "language_info": {
   "codemirror_mode": {
    "name": "ipython",
    "version": 3
   },
   "file_extension": ".py",
   "mimetype": "text/x-python",
   "name": "python",
   "nbconvert_exporter": "python",
   "pygments_lexer": "ipython3",
   "version": "3.9.7"
  }
 },
 "nbformat": 4,
 "nbformat_minor": 5
}
